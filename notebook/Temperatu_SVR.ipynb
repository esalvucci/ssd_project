{
 "cells": [
  {
   "cell_type": "code",
   "execution_count": 7,
   "metadata": {},
   "outputs": [],
   "source": [
    "import pandas as pd\n",
    "import plotly.express as px\n",
    "import matplotlib.pyplot as plt\n",
    "from sklearn.model_selection import train_test_split\n",
    "from sklearn.svm import SVR"
   ]
  },
  {
   "cell_type": "code",
   "execution_count": 8,
   "metadata": {
    "scrolled": false
   },
   "outputs": [],
   "source": [
    "url = 'https://raw.githubusercontent.com/okHotel/ssd_project/master/data_set/daily-min-temperatures.csv'\n",
    "df = pd.read_csv(url)\n",
    "\n",
    "mask = (df['Date'] > '1988-01-01') & (df['Date'] <= '1990-12-31')\n",
    "df = df.loc[mask]\n",
    "\n",
    "#print(df.head())\n",
    "df = df.sort_values(by=['Date'])\n",
    "fig = px.line(df, x = 'Date', y = 'Temp', title='Mininum temperature trend of Melbourne')\n",
    "#fig.show()"
   ]
  },
  {
   "cell_type": "markdown",
   "metadata": {},
   "source": [
    "SVR prevision"
   ]
  },
  {
   "cell_type": "code",
   "execution_count": 9,
   "metadata": {},
   "outputs": [],
   "source": [
    "df.insert(0, 'id', range(0,len(df)))\n",
    "\n",
    "X = df[['id']].values.reshape(-1,1)\n",
    "y = df[['Temp']].values.reshape(-1,1)\n",
    "X_train, X_test, y_train, y_test = train_test_split(X, y, test_size=0.2, random_state=0)"
   ]
  },
  {
   "cell_type": "code",
   "execution_count": 10,
   "metadata": {},
   "outputs": [
    {
     "name": "stderr",
     "output_type": "stream",
     "text": [
      "C:\\Users\\varin\\Anaconda3\\envs\\ssd\\lib\\site-packages\\sklearn\\utils\\validation.py:744: DataConversionWarning:\n",
      "\n",
      "A column-vector y was passed when a 1d array was expected. Please change the shape of y to (n_samples, ), for example using ravel().\n",
      "\n"
     ]
    },
    {
     "data": {
      "text/plain": [
       "SVR(C=100, cache_size=200, coef0=0.0, degree=3, epsilon=0.1, gamma=0.001,\n",
       "    kernel='rbf', max_iter=-1, shrinking=True, tol=0.001, verbose=False)"
      ]
     },
     "execution_count": 10,
     "metadata": {},
     "output_type": "execute_result"
    }
   ],
   "source": [
    "# !!! Con kernel rbf scazza le previsioni.\n",
    "# !!! Con kernel linear molto meglio !!!\n",
    "regressor = SVR(kernel='rbf', C=100, gamma=0.001, epsilon=.1)\n",
    "regressor.fit(X_train,y_train)"
   ]
  },
  {
   "cell_type": "code",
   "execution_count": 23,
   "metadata": {},
   "outputs": [
    {
     "data": {
      "text/html": [
       "<div>\n",
       "<style scoped>\n",
       "    .dataframe tbody tr th:only-of-type {\n",
       "        vertical-align: middle;\n",
       "    }\n",
       "\n",
       "    .dataframe tbody tr th {\n",
       "        vertical-align: top;\n",
       "    }\n",
       "\n",
       "    .dataframe thead th {\n",
       "        text-align: right;\n",
       "    }\n",
       "</style>\n",
       "<table border=\"1\" class=\"dataframe\">\n",
       "  <thead>\n",
       "    <tr style=\"text-align: right;\">\n",
       "      <th></th>\n",
       "      <th>Actual</th>\n",
       "      <th>Predicted</th>\n",
       "    </tr>\n",
       "  </thead>\n",
       "  <tbody>\n",
       "    <tr>\n",
       "      <th>0</th>\n",
       "      <td>16.5</td>\n",
       "      <td>16.437376</td>\n",
       "    </tr>\n",
       "    <tr>\n",
       "      <th>1</th>\n",
       "      <td>15.5</td>\n",
       "      <td>15.691948</td>\n",
       "    </tr>\n",
       "    <tr>\n",
       "      <th>2</th>\n",
       "      <td>14.5</td>\n",
       "      <td>15.423345</td>\n",
       "    </tr>\n",
       "    <tr>\n",
       "      <th>3</th>\n",
       "      <td>10.1</td>\n",
       "      <td>11.226191</td>\n",
       "    </tr>\n",
       "    <tr>\n",
       "      <th>4</th>\n",
       "      <td>11.9</td>\n",
       "      <td>10.879230</td>\n",
       "    </tr>\n",
       "    <tr>\n",
       "      <th>...</th>\n",
       "      <td>...</td>\n",
       "      <td>...</td>\n",
       "    </tr>\n",
       "    <tr>\n",
       "      <th>214</th>\n",
       "      <td>12.9</td>\n",
       "      <td>10.134517</td>\n",
       "    </tr>\n",
       "    <tr>\n",
       "      <th>215</th>\n",
       "      <td>14.6</td>\n",
       "      <td>13.506523</td>\n",
       "    </tr>\n",
       "    <tr>\n",
       "      <th>216</th>\n",
       "      <td>5.8</td>\n",
       "      <td>9.829157</td>\n",
       "    </tr>\n",
       "    <tr>\n",
       "      <th>217</th>\n",
       "      <td>9.3</td>\n",
       "      <td>10.502523</td>\n",
       "    </tr>\n",
       "    <tr>\n",
       "      <th>218</th>\n",
       "      <td>11.0</td>\n",
       "      <td>11.425744</td>\n",
       "    </tr>\n",
       "  </tbody>\n",
       "</table>\n",
       "<p>219 rows × 2 columns</p>\n",
       "</div>"
      ],
      "text/plain": [
       "     Actual  Predicted\n",
       "0      16.5  16.437376\n",
       "1      15.5  15.691948\n",
       "2      14.5  15.423345\n",
       "3      10.1  11.226191\n",
       "4      11.9  10.879230\n",
       "..      ...        ...\n",
       "214    12.9  10.134517\n",
       "215    14.6  13.506523\n",
       "216     5.8   9.829157\n",
       "217     9.3  10.502523\n",
       "218    11.0  11.425744\n",
       "\n",
       "[219 rows x 2 columns]"
      ]
     },
     "execution_count": 23,
     "metadata": {},
     "output_type": "execute_result"
    }
   ],
   "source": [
    "y_pred = regressor.predict(X_test)\n",
    "df = pd.DataFrame({'Actual': y_test.flatten(), 'Predicted': y_pred.flatten()})\n",
    "#df"
   ]
  },
  {
   "cell_type": "code",
   "execution_count": 12,
   "metadata": {},
   "outputs": [
    {
     "data": {
      "image/png": "[encoded data removed]",
      "text/plain": [
       "<Figure size 432x288 with 1 Axes>"
      ]
     },
     "metadata": {
      "needs_background": "light"
     },
     "output_type": "display_data"
    }
   ],
   "source": [
    "plt.scatter(X, y, color = 'magenta')\n",
    "plt.plot(X, regressor.predict(X), color = 'green')\n",
    "plt.title('Truth or Bluff (Support Vector Regression Model)')\n",
    "plt.xlabel('Id')\n",
    "plt.ylabel('Temperature')\n",
    "plt.show()"
   ]
  },
  {
   "cell_type": "code",
   "execution_count": 19,
   "metadata": {},
   "outputs": [
    {
     "data": {
      "application/vnd.plotly.v1+json": {
       "config": {
        "plotlyServerURL": "https://plot.ly"
       },
       "data": [
        {
         "mode": "markers",
         "name": "predicted data",
         "type": "scatter",
         "x": [
          784,
          741,
          747,
          986,
          479,
          27,
          159,
          356,
          320,
          351,
          951,
          877,
          484,
          272,
          692,
          1059,
          14,
          358,
          820,
          926,
          1040,
          867,
          278,
          619,
          390,
          788,
          654,
          943,
          859,
          948,
          70,
          936,
          202,
          596,
          862,
          440,
          549,
          413,
          958,
          192,
          656,
          316,
          896,
          793,
          31,
          1056,
          295,
          588,
          434,
          932,
          920,
          75,
          361,
          264,
          827,
          1009,
          568,
          576,
          477,
          85,
          465,
          34,
          833,
          183,
          826,
          1067,
          553,
          846,
          466,
          482,
          822,
          224,
          406,
          811,
          988,
          175,
          452,
          436,
          582,
          702,
          18,
          1,
          602,
          646,
          626,
          270,
          557,
          713,
          722,
          253,
          108,
          317,
          204,
          481,
          267,
          548,
          279,
          231,
          472,
          1043,
          966,
          815,
          790,
          249,
          664,
          940,
          1066,
          55,
          899,
          142,
          1029,
          857,
          268,
          103,
          681,
          520,
          870,
          15,
          408,
          947,
          803,
          384,
          993,
          1093,
          729,
          453,
          431,
          239,
          485,
          561,
          367,
          359,
          418,
          312,
          45,
          303,
          1055,
          911,
          315,
          939,
          97,
          399,
          1089,
          489,
          967,
          196,
          122,
          789,
          985,
          81,
          141,
          703,
          77,
          283,
          998,
          987,
          878,
          678,
          583,
          319,
          1025,
          677,
          825,
          1048,
          808,
          745,
          240,
          467,
          567,
          907,
          386,
          885,
          382,
          5,
          984,
          918,
          2,
          953,
          571,
          82,
          786,
          247,
          1038,
          622,
          521,
          994,
          462,
          294,
          1024,
          717,
          564,
          746,
          580,
          457,
          773,
          605,
          955,
          890,
          251,
          754,
          979,
          938,
          796,
          883,
          505,
          443,
          1027,
          200,
          989,
          65,
          933,
          1086,
          686,
          759,
          655,
          1088,
          869,
          665,
          674
         ],
         "y": [
          16.437376417259664,
          15.691947620266017,
          15.423344598441371,
          11.226191149428749,
          10.879229630131796,
          14.450168439570387,
          8.482245121647132,
          15.028437663268589,
          11.77010828421467,
          15.194553956268873,
          7.960922231176509,
          8.679989520036335,
          10.866809434035625,
          9.051809744749244,
          15.130270990488066,
          13.061245820904263,
          17.173071615500344,
          14.842221089640692,
          15.199602875624288,
          8.866661655273816,
          13.04351449133811,
          10.172694783687643,
          9.839609594258556,
          8.476257373455915,
          15.76164579583398,
          16.19148606278867,
          10.09678999266295,
          8.686448124273163,
          11.511635664872651,
          8.24315274470363,
          14.53239033117776,
          9.06672302864529,
          8.403171754675808,
          6.867353600801056,
          11.03593095711094,
          15.36947163633768,
          5.602141653251003,
          18.02429885830974,
          7.466703475026587,
          8.30734412845606,
          10.169985704447749,
          11.883949540269457,
          7.640390253560852,
          15.643697707377882,
          14.050931579562256,
          12.831051726489507,
          11.883817942463091,
          7.267893263516223,
          17.063198712397597,
          9.09480018558971,
          8.411861100196536,
          15.103134049185934,
          14.49310425321498,
          8.463568389464962,
          14.878528634740372,
          9.867633427276502,
          6.737510695868619,
          7.55814885422714,
          10.936342030279146,
          15.876486778311303,
          11.887539333705528,
          14.027077897540943,
          14.263342803180906,
          7.947433872716473,
          14.957113334701647,
          13.72900170047089,
          5.363195939483505,
          12.939956230867276,
          11.79036637241144,
          10.854680235143311,
          15.165222136046946,
          8.861810629882727,
          17.09507596059698,
          14.929676557894606,
          11.410755250501044,
          7.75756442319131,
          13.061187148523127,
          16.503872668260165,
          7.601468149181656,
          14.926980239221459,
          16.41933860176752,
          14.928996421230064,
          6.975454225662539,
          9.709645123343558,
          8.859990803846891,
          8.844164271231302,
          5.4320680955243175,
          12.877711548471185,
          12.694831588109897,
          8.649081613503904,
          12.81861749706979,
          11.848396683071721,
          8.399838670707835,
          10.855875222449805,
          8.605629525909714,
          5.705795497017485,
          9.984477918502188,
          9.107181619932382,
          11.236091292154969,
          12.897972550995798,
          7.646990717107522,
          15.105408771160073,
          15.991102795745324,
          8.850595390323742,
          10.452257874925303,
          8.894767929450268,
          13.662723869304374,
          14.975843301012306,
          7.575494433080424,
          10.176615757974686,
          12.609099937501842,
          11.797344011925446,
          8.674735826414826,
          12.988781792316004,
          12.861321078487373,
          8.616853392968721,
          9.662582245319484,
          17.022726097614296,
          17.332720130966923,
          8.337337724188991,
          14.801258113268473,
          14.950675554782391,
          11.456421604893512,
          13.728157177225501,
          13.932708049266031,
          12.955594206021901,
          17.818061409957785,
          9.181419355535143,
          10.877008646171467,
          5.7799765729023935,
          13.841119946376866,
          14.73228116935885,
          18.643297320811108,
          12.038289415289034,
          14.977376153351857,
          12.194819501655894,
          12.771143268369665,
          7.743805767697972,
          11.921957534704488,
          8.950154211076546,
          13.982811641141451,
          16.49993077603378,
          13.524714870199183,
          10.90485477907171,
          7.747602771566505,
          8.384710453358842,
          13.870740343305696,
          16.09602591426698,
          11.100482156213143,
          15.781335032937697,
          10.377752784354994,
          14.76704489482986,
          15.36502946528986,
          10.564074930410479,
          10.997153299557546,
          11.330014783565797,
          8.572372678951623,
          12.181442470679636,
          7.563776865252555,
          11.790079142473404,
          11.945325356088633,
          11.973609111298964,
          15.025793588620532,
          12.677225082850706,
          14.815818776650849,
          15.589239757392724,
          9.168807993188592,
          11.692666433911867,
          6.595744367672364,
          7.586918281485346,
          15.245214189957599,
          8.039930918687505,
          14.649637222286417,
          16.55910492310599,
          10.95446683950694,
          8.243274990513875,
          15.412158207925195,
          7.7851479524778044,
          7.127652198880631,
          15.841974719907178,
          16.34529462580108,
          8.946547700261123,
          13.105338943409501,
          8.670576271602766,
          8.595816435267544,
          11.397931281102908,
          12.168353234117669,
          11.810956753042854,
          11.752814623777134,
          12.508479727176509,
          6.166336039632865,
          15.513785029433958,
          7.6424025702748075,
          12.594606368272158,
          15.676897213699716,
          7.175721716681076,
          7.631513237538073,
          7.823176286680827,
          8.74915662946223,
          14.642583432374176,
          9.996221576776088,
          8.997567092236686,
          15.298821353886956,
          8.157375208089714,
          9.721331383181429,
          14.596510756658505,
          12.303361487769067,
          8.405059320446465,
          11.467628992333593,
          14.342225429711528,
          9.101894823870394,
          13.50596542881604,
          14.048665396775357,
          14.333332467666898,
          10.13451739646525,
          13.506523455335536,
          9.82915650575626,
          10.502522893226194,
          11.425744211118777
         ]
        },
        {
         "mode": "markers",
         "name": "test data",
         "type": "scatter",
         "x": [
          784,
          741,
          747,
          986,
          479,
          27,
          159,
          356,
          320,
          351,
          951,
          877,
          484,
          272,
          692,
          1059,
          14,
          358,
          820,
          926,
          1040,
          867,
          278,
          619,
          390,
          788,
          654,
          943,
          859,
          948,
          70,
          936,
          202,
          596,
          862,
          440,
          549,
          413,
          958,
          192,
          656,
          316,
          896,
          793,
          31,
          1056,
          295,
          588,
          434,
          932,
          920,
          75,
          361,
          264,
          827,
          1009,
          568,
          576,
          477,
          85,
          465,
          34,
          833,
          183,
          826,
          1067,
          553,
          846,
          466,
          482,
          822,
          224,
          406,
          811,
          988,
          175,
          452,
          436,
          582,
          702,
          18,
          1,
          602,
          646,
          626,
          270,
          557,
          713,
          722,
          253,
          108,
          317,
          204,
          481,
          267,
          548,
          279,
          231,
          472,
          1043,
          966,
          815,
          790,
          249,
          664,
          940,
          1066,
          55,
          899,
          142,
          1029,
          857,
          268,
          103,
          681,
          520,
          870,
          15,
          408,
          947,
          803,
          384,
          993,
          1093,
          729,
          453,
          431,
          239,
          485,
          561,
          367,
          359,
          418,
          312,
          45,
          303,
          1055,
          911,
          315,
          939,
          97,
          399,
          1089,
          489,
          967,
          196,
          122,
          789,
          985,
          81,
          141,
          703,
          77,
          283,
          998,
          987,
          878,
          678,
          583,
          319,
          1025,
          677,
          825,
          1048,
          808,
          745,
          240,
          467,
          567,
          907,
          386,
          885,
          382,
          5,
          984,
          918,
          2,
          953,
          571,
          82,
          786,
          247,
          1038,
          622,
          521,
          994,
          462,
          294,
          1024,
          717,
          564,
          746,
          580,
          457,
          773,
          605,
          955,
          890,
          251,
          754,
          979,
          938,
          796,
          883,
          505,
          443,
          1027,
          200,
          989,
          65,
          933,
          1086,
          686,
          759,
          655,
          1088,
          869,
          665,
          674
         ],
         "y": [
          16.5,
          15.5,
          14.5,
          10.1,
          11.9,
          21.4,
          9.7,
          17.3,
          11.5,
          17.5,
          6.4,
          4.5,
          14.2,
          12.4,
          14.4,
          8.8,
          17.6,
          15.8,
          14.7,
          9.1,
          15.4,
          9.4,
          6,
          7.2,
          16.5,
          19.3,
          13.2,
          5.7,
          10.6,
          8.6,
          12.6,
          8.1,
          7,
          5.1,
          10.2,
          12.5,
          5.3,
          15.7,
          7.7,
          7.1,
          9.4,
          17.5,
          9.3,
          17.2,
          15,
          11.1,
          9.7,
          5.8,
          17.7,
          9.8,
          5.4,
          15.7,
          12.9,
          16.6,
          15.1,
          6,
          5.3,
          3.7,
          8.3,
          15.5,
          13.9,
          13.9,
          9.9,
          4.9,
          15.2,
          20.5,
          9.7,
          8.9,
          14,
          14.5,
          12.2,
          8.4,
          15.2,
          17.4,
          3.7,
          6.7,
          9.7,
          15.1,
          7.6,
          10.6,
          15.6,
          13.5,
          4.2,
          10,
          8.6,
          10.8,
          7.5,
          12.6,
          16.4,
          11.5,
          10.5,
          7.5,
          8.5,
          15.8,
          11.1,
          6.9,
          12.7,
          11.7,
          8.6,
          8.6,
          8,
          14.2,
          19,
          5.3,
          9,
          5,
          17.3,
          15.3,
          8.3,
          10.3,
          18.4,
          6.9,
          10.8,
          15.9,
          11.4,
          7.8,
          4.5,
          15.5,
          18.3,
          7.7,
          11.6,
          14.5,
          6.8,
          13,
          14.8,
          12.6,
          21.4,
          8.8,
          14.6,
          5.3,
          16.8,
          9.5,
          16.2,
          9.4,
          11.8,
          11.6,
          10.5,
          7.3,
          16.9,
          6,
          9.4,
          14.2,
          14,
          10.3,
          2.1,
          6.3,
          14.9,
          17.3,
          7.2,
          14.4,
          9.4,
          14.1,
          13.9,
          13.3,
          4.6,
          10.4,
          6.1,
          11.3,
          5.6,
          11.1,
          12.4,
          9.7,
          15.8,
          12.3,
          12.5,
          11.5,
          9.7,
          12.9,
          3.1,
          3.7,
          12.6,
          6.8,
          13.1,
          17,
          9.8,
          10.2,
          15,
          7.8,
          5.5,
          13.9,
          17.3,
          9.4,
          18.3,
          7.4,
          9,
          5.2,
          13.9,
          11.4,
          10.9,
          12.6,
          7.2,
          15,
          7.1,
          14.2,
          14.1,
          4,
          8.4,
          7.2,
          15.2,
          17.1,
          3,
          7.9,
          13,
          8.5,
          11,
          17.3,
          13.3,
          9.5,
          7.3,
          16.8,
          10.8,
          10,
          11.9,
          16.1,
          12.9,
          14.6,
          5.8,
          9.3,
          11
         ]
        }
       ],
       "layout": {
        "template": {
         "data": {
          "bar": [
           {
            "error_x": {
             "color": "#2a3f5f"
            },
            "error_y": {
             "color": "#2a3f5f"
            },
            "marker": {
             "line": {
              "color": "#E5ECF6",
              "width": 0.5
             }
            },
            "type": "bar"
           }
          ],
          "barpolar": [
           {
            "marker": {
             "line": {
              "color": "#E5ECF6",
              "width": 0.5
             }
            },
            "type": "barpolar"
           }
          ],
          "carpet": [
           {
            "aaxis": {
             "endlinecolor": "#2a3f5f",
             "gridcolor": "white",
             "linecolor": "white",
             "minorgridcolor": "white",
             "startlinecolor": "#2a3f5f"
            },
            "baxis": {
             "endlinecolor": "#2a3f5f",
             "gridcolor": "white",
             "linecolor": "white",
             "minorgridcolor": "white",
             "startlinecolor": "#2a3f5f"
            },
            "type": "carpet"
           }
          ],
          "choropleth": [
           {
            "colorbar": {
             "outlinewidth": 0,
             "ticks": ""
            },
            "type": "choropleth"
           }
          ],
          "contour": [
           {
            "colorbar": {
             "outlinewidth": 0,
             "ticks": ""
            },
            "colorscale": [
             [
              0,
              "#0d0887"
             ],
             [
              0.1111111111111111,
              "#46039f"
             ],
             [
              0.2222222222222222,
              "#7201a8"
             ],
             [
              0.3333333333333333,
              "#9c179e"
             ],
             [
              0.4444444444444444,
              "#bd3786"
             ],
             [
              0.5555555555555556,
              "#d8576b"
             ],
             [
              0.6666666666666666,
              "#ed7953"
             ],
             [
              0.7777777777777778,
              "#fb9f3a"
             ],
             [
              0.8888888888888888,
              "#fdca26"
             ],
             [
              1,
              "#f0f921"
             ]
            ],
            "type": "contour"
           }
          ],
          "contourcarpet": [
           {
            "colorbar": {
             "outlinewidth": 0,
             "ticks": ""
            },
            "type": "contourcarpet"
           }
          ],
          "heatmap": [
           {
            "colorbar": {
             "outlinewidth": 0,
             "ticks": ""
            },
            "colorscale": [
             [
              0,
              "#0d0887"
             ],
             [
              0.1111111111111111,
              "#46039f"
             ],
             [
              0.2222222222222222,
              "#7201a8"
             ],
             [
              0.3333333333333333,
              "#9c179e"
             ],
             [
              0.4444444444444444,
              "#bd3786"
             ],
             [
              0.5555555555555556,
              "#d8576b"
             ],
             [
              0.6666666666666666,
              "#ed7953"
             ],
             [
              0.7777777777777778,
              "#fb9f3a"
             ],
             [
              0.8888888888888888,
              "#fdca26"
             ],
             [
              1,
              "#f0f921"
             ]
            ],
            "type": "heatmap"
           }
          ],
          "heatmapgl": [
           {
            "colorbar": {
             "outlinewidth": 0,
             "ticks": ""
            },
            "colorscale": [
             [
              0,
              "#0d0887"
             ],
             [
              0.1111111111111111,
              "#46039f"
             ],
             [
              0.2222222222222222,
              "#7201a8"
             ],
             [
              0.3333333333333333,
              "#9c179e"
             ],
             [
              0.4444444444444444,
              "#bd3786"
             ],
             [
              0.5555555555555556,
              "#d8576b"
             ],
             [
              0.6666666666666666,
              "#ed7953"
             ],
             [
              0.7777777777777778,
              "#fb9f3a"
             ],
             [
              0.8888888888888888,
              "#fdca26"
             ],
             [
              1,
              "#f0f921"
             ]
            ],
            "type": "heatmapgl"
           }
          ],
          "histogram": [
           {
            "marker": {
             "colorbar": {
              "outlinewidth": 0,
              "ticks": ""
             }
            },
            "type": "histogram"
           }
          ],
          "histogram2d": [
           {
            "colorbar": {
             "outlinewidth": 0,
             "ticks": ""
            },
            "colorscale": [
             [
              0,
              "#0d0887"
             ],
             [
              0.1111111111111111,
              "#46039f"
             ],
             [
              0.2222222222222222,
              "#7201a8"
             ],
             [
              0.3333333333333333,
              "#9c179e"
             ],
             [
              0.4444444444444444,
              "#bd3786"
             ],
             [
              0.5555555555555556,
              "#d8576b"
             ],
             [
              0.6666666666666666,
              "#ed7953"
             ],
             [
              0.7777777777777778,
              "#fb9f3a"
             ],
             [
              0.8888888888888888,
              "#fdca26"
             ],
             [
              1,
              "#f0f921"
             ]
            ],
            "type": "histogram2d"
           }
          ],
          "histogram2dcontour": [
           {
            "colorbar": {
             "outlinewidth": 0,
             "ticks": ""
            },
            "colorscale": [
             [
              0,
              "#0d0887"
             ],
             [
              0.1111111111111111,
              "#46039f"
             ],
             [
              0.2222222222222222,
              "#7201a8"
             ],
             [
              0.3333333333333333,
              "#9c179e"
             ],
             [
              0.4444444444444444,
              "#bd3786"
             ],
             [
              0.5555555555555556,
              "#d8576b"
             ],
             [
              0.6666666666666666,
              "#ed7953"
             ],
             [
              0.7777777777777778,
              "#fb9f3a"
             ],
             [
              0.8888888888888888,
              "#fdca26"
             ],
             [
              1,
              "#f0f921"
             ]
            ],
            "type": "histogram2dcontour"
           }
          ],
          "mesh3d": [
           {
            "colorbar": {
             "outlinewidth": 0,
             "ticks": ""
            },
            "type": "mesh3d"
           }
          ],
          "parcoords": [
           {
            "line": {
             "colorbar": {
              "outlinewidth": 0,
              "ticks": ""
             }
            },
            "type": "parcoords"
           }
          ],
          "pie": [
           {
            "automargin": true,
            "type": "pie"
           }
          ],
          "scatter": [
           {
            "marker": {
             "colorbar": {
              "outlinewidth": 0,
              "ticks": ""
             }
            },
            "type": "scatter"
           }
          ],
          "scatter3d": [
           {
            "line": {
             "colorbar": {
              "outlinewidth": 0,
              "ticks": ""
             }
            },
            "marker": {
             "colorbar": {
              "outlinewidth": 0,
              "ticks": ""
             }
            },
            "type": "scatter3d"
           }
          ],
          "scattercarpet": [
           {
            "marker": {
             "colorbar": {
              "outlinewidth": 0,
              "ticks": ""
             }
            },
            "type": "scattercarpet"
           }
          ],
          "scattergeo": [
           {
            "marker": {
             "colorbar": {
              "outlinewidth": 0,
              "ticks": ""
             }
            },
            "type": "scattergeo"
           }
          ],
          "scattergl": [
           {
            "marker": {
             "colorbar": {
              "outlinewidth": 0,
              "ticks": ""
             }
            },
            "type": "scattergl"
           }
          ],
          "scattermapbox": [
           {
            "marker": {
             "colorbar": {
              "outlinewidth": 0,
              "ticks": ""
             }
            },
            "type": "scattermapbox"
           }
          ],
          "scatterpolar": [
           {
            "marker": {
             "colorbar": {
              "outlinewidth": 0,
              "ticks": ""
             }
            },
            "type": "scatterpolar"
           }
          ],
          "scatterpolargl": [
           {
            "marker": {
             "colorbar": {
              "outlinewidth": 0,
              "ticks": ""
             }
            },
            "type": "scatterpolargl"
           }
          ],
          "scatterternary": [
           {
            "marker": {
             "colorbar": {
              "outlinewidth": 0,
              "ticks": ""
             }
            },
            "type": "scatterternary"
           }
          ],
          "surface": [
           {
            "colorbar": {
             "outlinewidth": 0,
             "ticks": ""
            },
            "colorscale": [
             [
              0,
              "#0d0887"
             ],
             [
              0.1111111111111111,
              "#46039f"
             ],
             [
              0.2222222222222222,
              "#7201a8"
             ],
             [
              0.3333333333333333,
              "#9c179e"
             ],
             [
              0.4444444444444444,
              "#bd3786"
             ],
             [
              0.5555555555555556,
              "#d8576b"
             ],
             [
              0.6666666666666666,
              "#ed7953"
             ],
             [
              0.7777777777777778,
              "#fb9f3a"
             ],
             [
              0.8888888888888888,
              "#fdca26"
             ],
             [
              1,
              "#f0f921"
             ]
            ],
            "type": "surface"
           }
          ],
          "table": [
           {
            "cells": {
             "fill": {
              "color": "#EBF0F8"
             },
             "line": {
              "color": "white"
             }
            },
            "header": {
             "fill": {
              "color": "#C8D4E3"
             },
             "line": {
              "color": "white"
             }
            },
            "type": "table"
           }
          ]
         },
         "layout": {
          "annotationdefaults": {
           "arrowcolor": "#2a3f5f",
           "arrowhead": 0,
           "arrowwidth": 1
          },
          "coloraxis": {
           "colorbar": {
            "outlinewidth": 0,
            "ticks": ""
           }
          },
          "colorscale": {
           "diverging": [
            [
             0,
             "#8e0152"
            ],
            [
             0.1,
             "#c51b7d"
            ],
            [
             0.2,
             "#de77ae"
            ],
            [
             0.3,
             "#f1b6da"
            ],
            [
             0.4,
             "#fde0ef"
            ],
            [
             0.5,
             "#f7f7f7"
            ],
            [
             0.6,
             "#e6f5d0"
            ],
            [
             0.7,
             "#b8e186"
            ],
            [
             0.8,
             "#7fbc41"
            ],
            [
             0.9,
             "#4d9221"
            ],
            [
             1,
             "#276419"
            ]
           ],
           "sequential": [
            [
             0,
             "#0d0887"
            ],
            [
             0.1111111111111111,
             "#46039f"
            ],
            [
             0.2222222222222222,
             "#7201a8"
            ],
            [
             0.3333333333333333,
             "#9c179e"
            ],
            [
             0.4444444444444444,
             "#bd3786"
            ],
            [
             0.5555555555555556,
             "#d8576b"
            ],
            [
             0.6666666666666666,
             "#ed7953"
            ],
            [
             0.7777777777777778,
             "#fb9f3a"
            ],
            [
             0.8888888888888888,
             "#fdca26"
            ],
            [
             1,
             "#f0f921"
            ]
           ],
           "sequentialminus": [
            [
             0,
             "#0d0887"
            ],
            [
             0.1111111111111111,
             "#46039f"
            ],
            [
             0.2222222222222222,
             "#7201a8"
            ],
            [
             0.3333333333333333,
             "#9c179e"
            ],
            [
             0.4444444444444444,
             "#bd3786"
            ],
            [
             0.5555555555555556,
             "#d8576b"
            ],
            [
             0.6666666666666666,
             "#ed7953"
            ],
            [
             0.7777777777777778,
             "#fb9f3a"
            ],
            [
             0.8888888888888888,
             "#fdca26"
            ],
            [
             1,
             "#f0f921"
            ]
           ]
          },
          "colorway": [
           "#636efa",
           "#EF553B",
           "#00cc96",
           "#ab63fa",
           "#FFA15A",
           "#19d3f3",
           "#FF6692",
           "#B6E880",
           "#FF97FF",
           "#FECB52"
          ],
          "font": {
           "color": "#2a3f5f"
          },
          "geo": {
           "bgcolor": "white",
           "lakecolor": "white",
           "landcolor": "#E5ECF6",
           "showlakes": true,
           "showland": true,
           "subunitcolor": "white"
          },
          "hoverlabel": {
           "align": "left"
          },
          "hovermode": "closest",
          "mapbox": {
           "style": "light"
          },
          "paper_bgcolor": "white",
          "plot_bgcolor": "#E5ECF6",
          "polar": {
           "angularaxis": {
            "gridcolor": "white",
            "linecolor": "white",
            "ticks": ""
           },
           "bgcolor": "#E5ECF6",
           "radialaxis": {
            "gridcolor": "white",
            "linecolor": "white",
            "ticks": ""
           }
          },
          "scene": {
           "xaxis": {
            "backgroundcolor": "#E5ECF6",
            "gridcolor": "white",
            "gridwidth": 2,
            "linecolor": "white",
            "showbackground": true,
            "ticks": "",
            "zerolinecolor": "white"
           },
           "yaxis": {
            "backgroundcolor": "#E5ECF6",
            "gridcolor": "white",
            "gridwidth": 2,
            "linecolor": "white",
            "showbackground": true,
            "ticks": "",
            "zerolinecolor": "white"
           },
           "zaxis": {
            "backgroundcolor": "#E5ECF6",
            "gridcolor": "white",
            "gridwidth": 2,
            "linecolor": "white",
            "showbackground": true,
            "ticks": "",
            "zerolinecolor": "white"
           }
          },
          "shapedefaults": {
           "line": {
            "color": "#2a3f5f"
           }
          },
          "ternary": {
           "aaxis": {
            "gridcolor": "white",
            "linecolor": "white",
            "ticks": ""
           },
           "baxis": {
            "gridcolor": "white",
            "linecolor": "white",
            "ticks": ""
           },
           "bgcolor": "#E5ECF6",
           "caxis": {
            "gridcolor": "white",
            "linecolor": "white",
            "ticks": ""
           }
          },
          "title": {
           "x": 0.05
          },
          "xaxis": {
           "automargin": true,
           "gridcolor": "white",
           "linecolor": "white",
           "ticks": "",
           "title": {
            "standoff": 15
           },
           "zerolinecolor": "white",
           "zerolinewidth": 2
          },
          "yaxis": {
           "automargin": true,
           "gridcolor": "white",
           "linecolor": "white",
           "ticks": "",
           "title": {
            "standoff": 15
           },
           "zerolinecolor": "white",
           "zerolinewidth": 2
          }
         }
        }
       }
      },
      "text/html": [
       "<div>\n",
       "        \n",
       "        \n",
       "            <div id=\"d580e365-a0ca-4ae7-9d76-e3de34ca508e\" class=\"plotly-graph-div\" style=\"height:525px; width:100%;\"></div>\n",
       "            <script type=\"text/javascript\">\n",
       "                require([\"plotly\"], function(Plotly) {\n",
       "                    window.PLOTLYENV=window.PLOTLYENV || {};\n",
       "                    \n",
       "                if (document.getElementById(\"d580e365-a0ca-4ae7-9d76-e3de34ca508e\")) {\n",
       "                    Plotly.newPlot(\n",
       "                        'd580e365-a0ca-4ae7-9d76-e3de34ca508e',\n",
       "                        [{\"mode\": \"markers\", \"name\": \"predicted data\", \"type\": \"scatter\", \"x\": [784, 741, 747, 986, 479, 27, 159, 356, 320, 351, 951, 877, 484, 272, 692, 1059, 14, 358, 820, 926, 1040, 867, 278, 619, 390, 788, 654, 943, 859, 948, 70, 936, 202, 596, 862, 440, 549, 413, 958, 192, 656, 316, 896, 793, 31, 1056, 295, 588, 434, 932, 920, 75, 361, 264, 827, 1009, 568, 576, 477, 85, 465, 34, 833, 183, 826, 1067, 553, 846, 466, 482, 822, 224, 406, 811, 988, 175, 452, 436, 582, 702, 18, 1, 602, 646, 626, 270, 557, 713, 722, 253, 108, 317, 204, 481, 267, 548, 279, 231, 472, 1043, 966, 815, 790, 249, 664, 940, 1066, 55, 899, 142, 1029, 857, 268, 103, 681, 520, 870, 15, 408, 947, 803, 384, 993, 1093, 729, 453, 431, 239, 485, 561, 367, 359, 418, 312, 45, 303, 1055, 911, 315, 939, 97, 399, 1089, 489, 967, 196, 122, 789, 985, 81, 141, 703, 77, 283, 998, 987, 878, 678, 583, 319, 1025, 677, 825, 1048, 808, 745, 240, 467, 567, 907, 386, 885, 382, 5, 984, 918, 2, 953, 571, 82, 786, 247, 1038, 622, 521, 994, 462, 294, 1024, 717, 564, 746, 580, 457, 773, 605, 955, 890, 251, 754, 979, 938, 796, 883, 505, 443, 1027, 200, 989, 65, 933, 1086, 686, 759, 655, 1088, 869, 665, 674], \"y\": [16.437376417259664, 15.691947620266017, 15.423344598441371, 11.226191149428749, 10.879229630131796, 14.450168439570387, 8.482245121647132, 15.028437663268589, 11.77010828421467, 15.194553956268873, 7.960922231176509, 8.679989520036335, 10.866809434035625, 9.051809744749244, 15.130270990488066, 13.061245820904263, 17.173071615500344, 14.842221089640692, 15.199602875624288, 8.866661655273816, 13.04351449133811, 10.172694783687643, 9.839609594258556, 8.476257373455915, 15.76164579583398, 16.19148606278867, 10.09678999266295, 8.686448124273163, 11.511635664872651, 8.24315274470363, 14.53239033117776, 9.06672302864529, 8.403171754675808, 6.867353600801056, 11.03593095711094, 15.36947163633768, 5.602141653251003, 18.02429885830974, 7.466703475026587, 8.30734412845606, 10.169985704447749, 11.883949540269457, 7.640390253560852, 15.643697707377882, 14.050931579562256, 12.831051726489507, 11.883817942463091, 7.267893263516223, 17.063198712397597, 9.09480018558971, 8.411861100196536, 15.103134049185934, 14.49310425321498, 8.463568389464962, 14.878528634740372, 9.867633427276502, 6.737510695868619, 7.55814885422714, 10.936342030279146, 15.876486778311303, 11.887539333705528, 14.027077897540943, 14.263342803180906, 7.947433872716473, 14.957113334701647, 13.72900170047089, 5.363195939483505, 12.939956230867276, 11.79036637241144, 10.854680235143311, 15.165222136046946, 8.861810629882727, 17.09507596059698, 14.929676557894606, 11.410755250501044, 7.75756442319131, 13.061187148523127, 16.503872668260165, 7.601468149181656, 14.926980239221459, 16.41933860176752, 14.928996421230064, 6.975454225662539, 9.709645123343558, 8.859990803846891, 8.844164271231302, 5.4320680955243175, 12.877711548471185, 12.694831588109897, 8.649081613503904, 12.81861749706979, 11.848396683071721, 8.399838670707835, 10.855875222449805, 8.605629525909714, 5.705795497017485, 9.984477918502188, 9.107181619932382, 11.236091292154969, 12.897972550995798, 7.646990717107522, 15.105408771160073, 15.991102795745324, 8.850595390323742, 10.452257874925303, 8.894767929450268, 13.662723869304374, 14.975843301012306, 7.575494433080424, 10.176615757974686, 12.609099937501842, 11.797344011925446, 8.674735826414826, 12.988781792316004, 12.861321078487373, 8.616853392968721, 9.662582245319484, 17.022726097614296, 17.332720130966923, 8.337337724188991, 14.801258113268473, 14.950675554782391, 11.456421604893512, 13.728157177225501, 13.932708049266031, 12.955594206021901, 17.818061409957785, 9.181419355535143, 10.877008646171467, 5.7799765729023935, 13.841119946376866, 14.73228116935885, 18.643297320811108, 12.038289415289034, 14.977376153351857, 12.194819501655894, 12.771143268369665, 7.743805767697972, 11.921957534704488, 8.950154211076546, 13.982811641141451, 16.49993077603378, 13.524714870199183, 10.90485477907171, 7.747602771566505, 8.384710453358842, 13.870740343305696, 16.09602591426698, 11.100482156213143, 15.781335032937697, 10.377752784354994, 14.76704489482986, 15.36502946528986, 10.564074930410479, 10.997153299557546, 11.330014783565797, 8.572372678951623, 12.181442470679636, 7.563776865252555, 11.790079142473404, 11.945325356088633, 11.973609111298964, 15.025793588620532, 12.677225082850706, 14.815818776650849, 15.589239757392724, 9.168807993188592, 11.692666433911867, 6.595744367672364, 7.586918281485346, 15.245214189957599, 8.039930918687505, 14.649637222286417, 16.55910492310599, 10.95446683950694, 8.243274990513875, 15.412158207925195, 7.7851479524778044, 7.127652198880631, 15.841974719907178, 16.34529462580108, 8.946547700261123, 13.105338943409501, 8.670576271602766, 8.595816435267544, 11.397931281102908, 12.168353234117669, 11.810956753042854, 11.752814623777134, 12.508479727176509, 6.166336039632865, 15.513785029433958, 7.6424025702748075, 12.594606368272158, 15.676897213699716, 7.175721716681076, 7.631513237538073, 7.823176286680827, 8.74915662946223, 14.642583432374176, 9.996221576776088, 8.997567092236686, 15.298821353886956, 8.157375208089714, 9.721331383181429, 14.596510756658505, 12.303361487769067, 8.405059320446465, 11.467628992333593, 14.342225429711528, 9.101894823870394, 13.50596542881604, 14.048665396775357, 14.333332467666898, 10.13451739646525, 13.506523455335536, 9.82915650575626, 10.502522893226194, 11.425744211118777]}, {\"mode\": \"markers\", \"name\": \"test data\", \"type\": \"scatter\", \"x\": [784, 741, 747, 986, 479, 27, 159, 356, 320, 351, 951, 877, 484, 272, 692, 1059, 14, 358, 820, 926, 1040, 867, 278, 619, 390, 788, 654, 943, 859, 948, 70, 936, 202, 596, 862, 440, 549, 413, 958, 192, 656, 316, 896, 793, 31, 1056, 295, 588, 434, 932, 920, 75, 361, 264, 827, 1009, 568, 576, 477, 85, 465, 34, 833, 183, 826, 1067, 553, 846, 466, 482, 822, 224, 406, 811, 988, 175, 452, 436, 582, 702, 18, 1, 602, 646, 626, 270, 557, 713, 722, 253, 108, 317, 204, 481, 267, 548, 279, 231, 472, 1043, 966, 815, 790, 249, 664, 940, 1066, 55, 899, 142, 1029, 857, 268, 103, 681, 520, 870, 15, 408, 947, 803, 384, 993, 1093, 729, 453, 431, 239, 485, 561, 367, 359, 418, 312, 45, 303, 1055, 911, 315, 939, 97, 399, 1089, 489, 967, 196, 122, 789, 985, 81, 141, 703, 77, 283, 998, 987, 878, 678, 583, 319, 1025, 677, 825, 1048, 808, 745, 240, 467, 567, 907, 386, 885, 382, 5, 984, 918, 2, 953, 571, 82, 786, 247, 1038, 622, 521, 994, 462, 294, 1024, 717, 564, 746, 580, 457, 773, 605, 955, 890, 251, 754, 979, 938, 796, 883, 505, 443, 1027, 200, 989, 65, 933, 1086, 686, 759, 655, 1088, 869, 665, 674], \"y\": [16.5, 15.5, 14.5, 10.1, 11.9, 21.4, 9.7, 17.3, 11.5, 17.5, 6.4, 4.5, 14.2, 12.4, 14.4, 8.8, 17.6, 15.8, 14.7, 9.1, 15.4, 9.4, 6.0, 7.2, 16.5, 19.3, 13.2, 5.7, 10.6, 8.6, 12.6, 8.1, 7.0, 5.1, 10.2, 12.5, 5.3, 15.7, 7.7, 7.1, 9.4, 17.5, 9.3, 17.2, 15.0, 11.1, 9.7, 5.8, 17.7, 9.8, 5.4, 15.7, 12.9, 16.6, 15.1, 6.0, 5.3, 3.7, 8.3, 15.5, 13.9, 13.9, 9.9, 4.9, 15.2, 20.5, 9.7, 8.9, 14.0, 14.5, 12.2, 8.4, 15.2, 17.4, 3.7, 6.7, 9.7, 15.1, 7.6, 10.6, 15.6, 13.5, 4.2, 10.0, 8.6, 10.8, 7.5, 12.6, 16.4, 11.5, 10.5, 7.5, 8.5, 15.8, 11.1, 6.9, 12.7, 11.7, 8.6, 8.6, 8.0, 14.2, 19.0, 5.3, 9.0, 5.0, 17.3, 15.3, 8.3, 10.3, 18.4, 6.9, 10.8, 15.9, 11.4, 7.8, 4.5, 15.5, 18.3, 7.7, 11.6, 14.5, 6.8, 13.0, 14.8, 12.6, 21.4, 8.8, 14.6, 5.3, 16.8, 9.5, 16.2, 9.4, 11.8, 11.6, 10.5, 7.3, 16.9, 6.0, 9.4, 14.2, 14.0, 10.3, 2.1, 6.3, 14.9, 17.3, 7.2, 14.4, 9.4, 14.1, 13.9, 13.3, 4.6, 10.4, 6.1, 11.3, 5.6, 11.1, 12.4, 9.7, 15.8, 12.3, 12.5, 11.5, 9.7, 12.9, 3.1, 3.7, 12.6, 6.8, 13.1, 17.0, 9.8, 10.2, 15.0, 7.8, 5.5, 13.9, 17.3, 9.4, 18.3, 7.4, 9.0, 5.2, 13.9, 11.4, 10.9, 12.6, 7.2, 15.0, 7.1, 14.2, 14.1, 4.0, 8.4, 7.2, 15.2, 17.1, 3.0, 7.9, 13.0, 8.5, 11.0, 17.3, 13.3, 9.5, 7.3, 16.8, 10.8, 10.0, 11.9, 16.1, 12.9, 14.6, 5.8, 9.3, 11.0]}],\n",
       "                        {\"template\": {\"data\": {\"bar\": [{\"error_x\": {\"color\": \"#2a3f5f\"}, \"error_y\": {\"color\": \"#2a3f5f\"}, \"marker\": {\"line\": {\"color\": \"#E5ECF6\", \"width\": 0.5}}, \"type\": \"bar\"}], \"barpolar\": [{\"marker\": {\"line\": {\"color\": \"#E5ECF6\", \"width\": 0.5}}, \"type\": \"barpolar\"}], \"carpet\": [{\"aaxis\": {\"endlinecolor\": \"#2a3f5f\", \"gridcolor\": \"white\", \"linecolor\": \"white\", \"minorgridcolor\": \"white\", \"startlinecolor\": \"#2a3f5f\"}, \"baxis\": {\"endlinecolor\": \"#2a3f5f\", \"gridcolor\": \"white\", \"linecolor\": \"white\", \"minorgridcolor\": \"white\", \"startlinecolor\": \"#2a3f5f\"}, \"type\": \"carpet\"}], \"choropleth\": [{\"colorbar\": {\"outlinewidth\": 0, \"ticks\": \"\"}, \"type\": \"choropleth\"}], \"contour\": [{\"colorbar\": {\"outlinewidth\": 0, \"ticks\": \"\"}, \"colorscale\": [[0.0, \"#0d0887\"], [0.1111111111111111, \"#46039f\"], [0.2222222222222222, \"#7201a8\"], [0.3333333333333333, \"#9c179e\"], [0.4444444444444444, \"#bd3786\"], [0.5555555555555556, \"#d8576b\"], [0.6666666666666666, \"#ed7953\"], [0.7777777777777778, \"#fb9f3a\"], [0.8888888888888888, \"#fdca26\"], [1.0, \"#f0f921\"]], \"type\": \"contour\"}], \"contourcarpet\": [{\"colorbar\": {\"outlinewidth\": 0, \"ticks\": \"\"}, \"type\": \"contourcarpet\"}], \"heatmap\": [{\"colorbar\": {\"outlinewidth\": 0, \"ticks\": \"\"}, \"colorscale\": [[0.0, \"#0d0887\"], [0.1111111111111111, \"#46039f\"], [0.2222222222222222, \"#7201a8\"], [0.3333333333333333, \"#9c179e\"], [0.4444444444444444, \"#bd3786\"], [0.5555555555555556, \"#d8576b\"], [0.6666666666666666, \"#ed7953\"], [0.7777777777777778, \"#fb9f3a\"], [0.8888888888888888, \"#fdca26\"], [1.0, \"#f0f921\"]], \"type\": \"heatmap\"}], \"heatmapgl\": [{\"colorbar\": {\"outlinewidth\": 0, \"ticks\": \"\"}, \"colorscale\": [[0.0, \"#0d0887\"], [0.1111111111111111, \"#46039f\"], [0.2222222222222222, \"#7201a8\"], [0.3333333333333333, \"#9c179e\"], [0.4444444444444444, \"#bd3786\"], [0.5555555555555556, \"#d8576b\"], [0.6666666666666666, \"#ed7953\"], [0.7777777777777778, \"#fb9f3a\"], [0.8888888888888888, \"#fdca26\"], [1.0, \"#f0f921\"]], \"type\": \"heatmapgl\"}], \"histogram\": [{\"marker\": {\"colorbar\": {\"outlinewidth\": 0, \"ticks\": \"\"}}, \"type\": \"histogram\"}], \"histogram2d\": [{\"colorbar\": {\"outlinewidth\": 0, \"ticks\": \"\"}, \"colorscale\": [[0.0, \"#0d0887\"], [0.1111111111111111, \"#46039f\"], [0.2222222222222222, \"#7201a8\"], [0.3333333333333333, \"#9c179e\"], [0.4444444444444444, \"#bd3786\"], [0.5555555555555556, \"#d8576b\"], [0.6666666666666666, \"#ed7953\"], [0.7777777777777778, \"#fb9f3a\"], [0.8888888888888888, \"#fdca26\"], [1.0, \"#f0f921\"]], \"type\": \"histogram2d\"}], \"histogram2dcontour\": [{\"colorbar\": {\"outlinewidth\": 0, \"ticks\": \"\"}, \"colorscale\": [[0.0, \"#0d0887\"], [0.1111111111111111, \"#46039f\"], [0.2222222222222222, \"#7201a8\"], [0.3333333333333333, \"#9c179e\"], [0.4444444444444444, \"#bd3786\"], [0.5555555555555556, \"#d8576b\"], [0.6666666666666666, \"#ed7953\"], [0.7777777777777778, \"#fb9f3a\"], [0.8888888888888888, \"#fdca26\"], [1.0, \"#f0f921\"]], \"type\": \"histogram2dcontour\"}], \"mesh3d\": [{\"colorbar\": {\"outlinewidth\": 0, \"ticks\": \"\"}, \"type\": \"mesh3d\"}], \"parcoords\": [{\"line\": {\"colorbar\": {\"outlinewidth\": 0, \"ticks\": \"\"}}, \"type\": \"parcoords\"}], \"pie\": [{\"automargin\": true, \"type\": \"pie\"}], \"scatter\": [{\"marker\": {\"colorbar\": {\"outlinewidth\": 0, \"ticks\": \"\"}}, \"type\": \"scatter\"}], \"scatter3d\": [{\"line\": {\"colorbar\": {\"outlinewidth\": 0, \"ticks\": \"\"}}, \"marker\": {\"colorbar\": {\"outlinewidth\": 0, \"ticks\": \"\"}}, \"type\": \"scatter3d\"}], \"scattercarpet\": [{\"marker\": {\"colorbar\": {\"outlinewidth\": 0, \"ticks\": \"\"}}, \"type\": \"scattercarpet\"}], \"scattergeo\": [{\"marker\": {\"colorbar\": {\"outlinewidth\": 0, \"ticks\": \"\"}}, \"type\": \"scattergeo\"}], \"scattergl\": [{\"marker\": {\"colorbar\": {\"outlinewidth\": 0, \"ticks\": \"\"}}, \"type\": \"scattergl\"}], \"scattermapbox\": [{\"marker\": {\"colorbar\": {\"outlinewidth\": 0, \"ticks\": \"\"}}, \"type\": \"scattermapbox\"}], \"scatterpolar\": [{\"marker\": {\"colorbar\": {\"outlinewidth\": 0, \"ticks\": \"\"}}, \"type\": \"scatterpolar\"}], \"scatterpolargl\": [{\"marker\": {\"colorbar\": {\"outlinewidth\": 0, \"ticks\": \"\"}}, \"type\": \"scatterpolargl\"}], \"scatterternary\": [{\"marker\": {\"colorbar\": {\"outlinewidth\": 0, \"ticks\": \"\"}}, \"type\": \"scatterternary\"}], \"surface\": [{\"colorbar\": {\"outlinewidth\": 0, \"ticks\": \"\"}, \"colorscale\": [[0.0, \"#0d0887\"], [0.1111111111111111, \"#46039f\"], [0.2222222222222222, \"#7201a8\"], [0.3333333333333333, \"#9c179e\"], [0.4444444444444444, \"#bd3786\"], [0.5555555555555556, \"#d8576b\"], [0.6666666666666666, \"#ed7953\"], [0.7777777777777778, \"#fb9f3a\"], [0.8888888888888888, \"#fdca26\"], [1.0, \"#f0f921\"]], \"type\": \"surface\"}], \"table\": [{\"cells\": {\"fill\": {\"color\": \"#EBF0F8\"}, \"line\": {\"color\": \"white\"}}, \"header\": {\"fill\": {\"color\": \"#C8D4E3\"}, \"line\": {\"color\": \"white\"}}, \"type\": \"table\"}]}, \"layout\": {\"annotationdefaults\": {\"arrowcolor\": \"#2a3f5f\", \"arrowhead\": 0, \"arrowwidth\": 1}, \"coloraxis\": {\"colorbar\": {\"outlinewidth\": 0, \"ticks\": \"\"}}, \"colorscale\": {\"diverging\": [[0, \"#8e0152\"], [0.1, \"#c51b7d\"], [0.2, \"#de77ae\"], [0.3, \"#f1b6da\"], [0.4, \"#fde0ef\"], [0.5, \"#f7f7f7\"], [0.6, \"#e6f5d0\"], [0.7, \"#b8e186\"], [0.8, \"#7fbc41\"], [0.9, \"#4d9221\"], [1, \"#276419\"]], \"sequential\": [[0.0, \"#0d0887\"], [0.1111111111111111, \"#46039f\"], [0.2222222222222222, \"#7201a8\"], [0.3333333333333333, \"#9c179e\"], [0.4444444444444444, \"#bd3786\"], [0.5555555555555556, \"#d8576b\"], [0.6666666666666666, \"#ed7953\"], [0.7777777777777778, \"#fb9f3a\"], [0.8888888888888888, \"#fdca26\"], [1.0, \"#f0f921\"]], \"sequentialminus\": [[0.0, \"#0d0887\"], [0.1111111111111111, \"#46039f\"], [0.2222222222222222, \"#7201a8\"], [0.3333333333333333, \"#9c179e\"], [0.4444444444444444, \"#bd3786\"], [0.5555555555555556, \"#d8576b\"], [0.6666666666666666, \"#ed7953\"], [0.7777777777777778, \"#fb9f3a\"], [0.8888888888888888, \"#fdca26\"], [1.0, \"#f0f921\"]]}, \"colorway\": [\"#636efa\", \"#EF553B\", \"#00cc96\", \"#ab63fa\", \"#FFA15A\", \"#19d3f3\", \"#FF6692\", \"#B6E880\", \"#FF97FF\", \"#FECB52\"], \"font\": {\"color\": \"#2a3f5f\"}, \"geo\": {\"bgcolor\": \"white\", \"lakecolor\": \"white\", \"landcolor\": \"#E5ECF6\", \"showlakes\": true, \"showland\": true, \"subunitcolor\": \"white\"}, \"hoverlabel\": {\"align\": \"left\"}, \"hovermode\": \"closest\", \"mapbox\": {\"style\": \"light\"}, \"paper_bgcolor\": \"white\", \"plot_bgcolor\": \"#E5ECF6\", \"polar\": {\"angularaxis\": {\"gridcolor\": \"white\", \"linecolor\": \"white\", \"ticks\": \"\"}, \"bgcolor\": \"#E5ECF6\", \"radialaxis\": {\"gridcolor\": \"white\", \"linecolor\": \"white\", \"ticks\": \"\"}}, \"scene\": {\"xaxis\": {\"backgroundcolor\": \"#E5ECF6\", \"gridcolor\": \"white\", \"gridwidth\": 2, \"linecolor\": \"white\", \"showbackground\": true, \"ticks\": \"\", \"zerolinecolor\": \"white\"}, \"yaxis\": {\"backgroundcolor\": \"#E5ECF6\", \"gridcolor\": \"white\", \"gridwidth\": 2, \"linecolor\": \"white\", \"showbackground\": true, \"ticks\": \"\", \"zerolinecolor\": \"white\"}, \"zaxis\": {\"backgroundcolor\": \"#E5ECF6\", \"gridcolor\": \"white\", \"gridwidth\": 2, \"linecolor\": \"white\", \"showbackground\": true, \"ticks\": \"\", \"zerolinecolor\": \"white\"}}, \"shapedefaults\": {\"line\": {\"color\": \"#2a3f5f\"}}, \"ternary\": {\"aaxis\": {\"gridcolor\": \"white\", \"linecolor\": \"white\", \"ticks\": \"\"}, \"baxis\": {\"gridcolor\": \"white\", \"linecolor\": \"white\", \"ticks\": \"\"}, \"bgcolor\": \"#E5ECF6\", \"caxis\": {\"gridcolor\": \"white\", \"linecolor\": \"white\", \"ticks\": \"\"}}, \"title\": {\"x\": 0.05}, \"xaxis\": {\"automargin\": true, \"gridcolor\": \"white\", \"linecolor\": \"white\", \"ticks\": \"\", \"title\": {\"standoff\": 15}, \"zerolinecolor\": \"white\", \"zerolinewidth\": 2}, \"yaxis\": {\"automargin\": true, \"gridcolor\": \"white\", \"linecolor\": \"white\", \"ticks\": \"\", \"title\": {\"standoff\": 15}, \"zerolinecolor\": \"white\", \"zerolinewidth\": 2}}}},\n",
       "                        {\"responsive\": true}\n",
       "                    ).then(function(){\n",
       "                            \n",
       "var gd = document.getElementById('d580e365-a0ca-4ae7-9d76-e3de34ca508e');\n",
       "var x = new MutationObserver(function (mutations, observer) {{\n",
       "        var display = window.getComputedStyle(gd).display;\n",
       "        if (!display || display === 'none') {{\n",
       "            console.log([gd, 'removed!']);\n",
       "            Plotly.purge(gd);\n",
       "            observer.disconnect();\n",
       "        }}\n",
       "}});\n",
       "\n",
       "// Listen for the removal of the full notebook cells\n",
       "var notebookContainer = gd.closest('#notebook-container');\n",
       "if (notebookContainer) {{\n",
       "    x.observe(notebookContainer, {childList: true});\n",
       "}}\n",
       "\n",
       "// Listen for the clearing of the current output cell\n",
       "var outputEl = gd.closest('.output');\n",
       "if (outputEl) {{\n",
       "    x.observe(outputEl, {childList: true});\n",
       "}}\n",
       "\n",
       "                        })\n",
       "                };\n",
       "                });\n",
       "            </script>\n",
       "        </div>"
      ]
     },
     "metadata": {},
     "output_type": "display_data"
    }
   ],
   "source": [
    "import plotly.graph_objects as go\n",
    "\n",
    "fig = go.Figure()\n",
    "fig.add_trace(go.Scatter(x=X_test.flatten(), y=y_pred.flatten(),\n",
    "                    mode='markers',\n",
    "                    name='predicted data'))\n",
    "fig.add_trace(go.Scatter(x=X_test.flatten(), y=y_test.flatten(),\n",
    "                    mode='markers',\n",
    "                    name='test data'))\n",
    "fig.show()"
   ]
  },
  {
   "cell_type": "code",
   "execution_count": null,
   "metadata": {},
   "outputs": [],
   "source": []
  }
 ],
 "metadata": {
  "kernelspec": {
   "display_name": "Python 3",
   "language": "python",
   "name": "python3"
  },
  "language_info": {
   "codemirror_mode": {
    "name": "ipython",
    "version": 3
   },
   "file_extension": ".py",
   "mimetype": "text/x-python",
   "name": "python",
   "nbconvert_exporter": "python",
   "pygments_lexer": "ipython3",
   "version": "3.6.5"
  }
 },
 "nbformat": 4,
 "nbformat_minor": 2
}
