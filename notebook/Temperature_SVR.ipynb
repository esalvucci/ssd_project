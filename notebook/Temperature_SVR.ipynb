{
 "cells": [
  {
   "cell_type": "code",
   "execution_count": 20,
   "metadata": {},
   "outputs": [],
   "source": [
    "import pandas as pd\n",
    "import plotly.express as px\n",
    "import matplotlib.pyplot as plt\n",
    "from sklearn.model_selection import train_test_split\n",
    "from sklearn.svm import SVR\n",
    "from sklearn.metrics import explained_variance_score\n",
    "import plotly.graph_objects as go"
   ]
  },
  {
   "cell_type": "code",
   "execution_count": 21,
   "metadata": {
    "scrolled": false
   },
   "outputs": [],
   "source": [
    "url = 'https://raw.githubusercontent.com/okHotel/ssd_project/master/data_set/daily-min-temperatures.csv'\n",
    "df = pd.read_csv(url, names=['Date', 'Temp'], skiprows=2556) #carico solo i dati degli ultimi 3 anni\n",
    "df = df.sort_values(by=['Date']) #ordino i record in base alla data\n",
    "df.insert(0, 'id', range(0,len(df)))\n",
    "\n",
    "#df.head()\n",
    "#fig = px.line(df, x = 'Date', y = 'Temp', title='Mininum temperature trend of Melbourne')\n",
    "#fig.show()"
   ]
  },
  {
   "cell_type": "markdown",
   "metadata": {},
   "source": [
    "SVR prevision"
   ]
  },
  {
   "cell_type": "code",
   "execution_count": 22,
   "metadata": {},
   "outputs": [],
   "source": [
    "# Spilt dataset into train and test\n",
    "X = df[['id']].values.reshape(-1,1)\n",
    "Y = df[['Temp']].values.reshape(-1,1).ravel()\n",
    "X_train, X_test, Y_train, Y_test = train_test_split(X, Y, test_size=0.2, random_state=0)"
   ]
  },
  {
   "cell_type": "code",
   "execution_count": 23,
   "metadata": {},
   "outputs": [],
   "source": [
    "regressor = SVR(kernel='rbf', C=1, gamma=0.001, epsilon=.01) # regressor definition\n",
    "regressor.fit(X_train,Y_train) # regressor training\n",
    "y_pred = regressor.predict(X_test) # regressor prediction"
   ]
  },
  {
   "cell_type": "code",
   "execution_count": 24,
   "metadata": {},
   "outputs": [
    {
     "data": {
      "image/png": "[encoded data removed]",
      "text/plain": [
       "<Figure size 432x288 with 1 Axes>"
      ]
     },
     "metadata": {
      "needs_background": "light"
     },
     "output_type": "display_data"
    }
   ],
   "source": [
    "plt.scatter(X, Y, color = 'magenta')\n",
    "plt.plot(X, regressor.predict(X), color = 'green')\n",
    "plt.title('Truth or Bluff (Support Vector Regression Model)')\n",
    "plt.xlabel('Id')\n",
    "plt.ylabel('Temperature')\n",
    "plt.show()"
   ]
  },
  {
   "cell_type": "code",
   "execution_count": 25,
   "metadata": {},
   "outputs": [
    {
     "data": {
      "application/vnd.plotly.v1+json": {
       "config": {
        "plotlyServerURL": "https://plot.ly"
       },
       "data": [
        {
         "mode": "markers",
         "name": "predicted data",
         "type": "scatter",
         "x": [
          784,
          741,
          747,
          987,
          479,
          27,
          159,
          356,
          320,
          351,
          952,
          878,
          484,
          272,
          692,
          1060,
          14,
          358,
          851,
          927,
          1041,
          1028,
          278,
          619,
          390,
          788,
          654,
          944,
          860,
          949,
          70,
          937,
          202,
          596,
          863,
          440,
          549,
          413,
          959,
          192,
          656,
          316,
          897,
          793,
          31,
          1057,
          295,
          588,
          434,
          933,
          921,
          75,
          361,
          264,
          828,
          1010,
          568,
          576,
          477,
          85,
          465,
          34,
          834,
          183,
          827,
          1068,
          553,
          847,
          466,
          482,
          823,
          224,
          406,
          939,
          989,
          175,
          452,
          436,
          582,
          702,
          18,
          1,
          602,
          646,
          626,
          270,
          557,
          713,
          722,
          253,
          108,
          317,
          204,
          481,
          267,
          548,
          279,
          231,
          472,
          1044,
          967,
          1007,
          790,
          249,
          664,
          876,
          911,
          55,
          900,
          142,
          1030,
          858,
          268,
          103,
          681,
          520,
          871,
          15,
          408,
          948,
          803,
          384,
          994,
          1094,
          729,
          453,
          431,
          239,
          485,
          561,
          367,
          359,
          418,
          312,
          45,
          303,
          883,
          912,
          315,
          940,
          97,
          399,
          1034,
          489,
          968,
          196,
          122,
          789,
          986,
          81,
          141,
          703,
          77,
          283,
          808,
          988,
          879,
          678,
          583,
          319,
          1026,
          677,
          826,
          1049,
          809,
          745,
          240,
          467,
          567,
          1037,
          386,
          1024,
          382,
          5,
          985,
          919,
          2,
          992,
          571,
          82,
          786,
          247,
          1039,
          622,
          521,
          907,
          462,
          294,
          1025,
          717,
          564,
          746,
          580,
          457,
          773,
          605,
          956,
          891,
          251,
          754,
          980,
          1011,
          796,
          884,
          505,
          443,
          869,
          200,
          990,
          65,
          841,
          1087,
          686,
          759,
          655,
          1089,
          870,
          665,
          674
         ],
         "y": [
          15.251098453792746,
          14.664885765231041,
          14.70077664511413,
          9.592786293765217,
          11.525697204348864,
          14.852755989005821,
          8.60619905911371,
          14.387259876554158,
          12.269346031807668,
          14.456905516072553,
          8.213996783265365,
          9.077088412861466,
          11.44449734759409,
          10.658706345609714,
          13.639990304030878,
          13.19094686031482,
          15.570193122968702,
          14.327878383699911,
          12.258153699590453,
          9.23952932979704,
          12.648800712867939,
          11.702049276851291,
          10.957648618721839,
          8.02821938565656,
          15.105809891532157,
          15.242666378609368,
          10.079330912331027,
          8.652977215538721,
          11.31987835011997,
          8.354973090833116,
          14.822316000610364,
          9.059859290341825,
          8.338142748667561,
          6.959458685387578,
          10.97259132630656,
          15.306574220615762,
          7.022840710987437,
          17.266242867601093,
          8.081903438077074,
          8.02821644470571,
          10.17646454465938,
          12.012744836011882,
          7.688788471473873,
          15.166739279942162,
          14.65544626414701,
          13.123077014773362,
          11.482069140690694,
          6.988068191248791,
          16.135593578586885,
          9.208700828532113,
          9.02205674630063,
          14.64917007278649,
          14.220934661262897,
          10.270217901865909,
          14.019266514664045,
          10.265485586162523,
          7.2064010187524845,
          7.187333218750699,
          11.570200638832679,
          14.120170290599972,
          12.1459422468125,
          14.552822007685233,
          13.661984561849716,
          7.80862379100803,
          14.070404234485549,
          13.396828384979981,
          7.012547292584946,
          12.631082552531659,
          12.072584926021712,
          11.473687431341439,
          14.252131586076354,
          9.186373833806497,
          16.86501403786857,
          8.95650215259176,
          9.67491940182545,
          7.761708834960174,
          13.54866635080128,
          15.873195803851846,
          7.091656859253726,
          14.082958034264212,
          15.389938612723833,
          15.39277629757922,
          7.080212561452672,
          9.727668923535859,
          8.538010970222636,
          10.556717353045652,
          7.052155502481441,
          14.135478897631657,
          14.226240700884926,
          9.906691248762932,
          13.159677304414616,
          12.070534798692982,
          8.405095921112894,
          11.489546877175629,
          10.40818743936102,
          7.035855864664345,
          11.0039993184504,
          9.441572628050857,
          11.735458668431864,
          12.78021057629549,
          8.319787756832563,
          10.136176328923105,
          15.220200260000759,
          9.82641637116842,
          10.682052563529055,
          9.327474977513234,
          8.313231870516264,
          14.81212613844101,
          7.716522757025388,
          10.885495925840866,
          11.88147597677407,
          11.54149347339494,
          10.456795871927152,
          13.2616722883375,
          12.518964016233735,
          9.236802390805655,
          9.972432134426981,
          15.53264355754838,
          17.015146239301544,
          8.40993792281795,
          14.889339958807106,
          14.490352416578496,
          9.824977942311905,
          13.509231248417132,
          14.400192479746558,
          13.414502725142649,
          16.492669102745523,
          9.650682505353076,
          11.430394875749409,
          7.115446767419091,
          14.01684900256362,
          14.293894731199797,
          17.317708138358192,
          11.823334050086208,
          14.549496301562021,
          11.593257587301094,
          8.50207388912223,
          8.389629964865755,
          11.959207454823636,
          8.899608509411097,
          13.469439794716859,
          16.169076318081785,
          12.210298927167141,
          11.368361228679275,
          8.374564383949714,
          8.147517464435754,
          12.86892628600189,
          15.232866839586514,
          9.546375744991819,
          14.351146042324771,
          11.02927960111596,
          14.098587172364578,
          14.558925254683631,
          11.1724326188995,
          14.738293792693742,
          9.63561364366466,
          8.955293664047938,
          12.153116986160068,
          7.072965411475615,
          12.198888269976145,
          11.51691510807354,
          12.031076636271942,
          14.119186945362708,
          12.940329187894692,
          14.708725265119483,
          14.695273772583077,
          9.670690131187492,
          12.004315332865941,
          7.198226684052412,
          12.421430390097116,
          14.676797536999594,
          11.329845195758269,
          14.327930109756576,
          15.590281278642651,
          9.496383977117773,
          8.90307953737611,
          15.453765469098347,
          9.773240694991573,
          7.217217729444254,
          14.294908984160452,
          15.253173899989845,
          9.791839629759425,
          12.542907549763797,
          8.245865843623895,
          9.123629882383717,
          8.029356266587158,
          12.396940164977307,
          11.466128425428776,
          11.423376415317582,
          14.155481162091961,
          7.162421309339518,
          14.698657866359609,
          7.127954302503148,
          12.916516634362937,
          15.046515011709449,
          7.19017561062331,
          8.100176055501938,
          7.856230324317849,
          9.864158669826992,
          14.704307953190439,
          9.197221452771341,
          10.3169958925245,
          15.094607807619093,
          8.399708760941738,
          10.695371294012972,
          14.860360222351874,
          10.22994749028886,
          8.273049245778418,
          9.710827324289465,
          14.907438820712509,
          13.1442458250123,
          13.65661456834203,
          13.092363961051452,
          14.732588332846948,
          10.126915198236087,
          13.629486725601994,
          10.10155111441815,
          10.762625844885633,
          11.672549619855852
         ]
        },
        {
         "mode": "markers",
         "name": "test data",
         "type": "scatter",
         "x": [
          784,
          741,
          747,
          987,
          479,
          27,
          159,
          356,
          320,
          351,
          952,
          878,
          484,
          272,
          692,
          1060,
          14,
          358,
          851,
          927,
          1041,
          1028,
          278,
          619,
          390,
          788,
          654,
          944,
          860,
          949,
          70,
          937,
          202,
          596,
          863,
          440,
          549,
          413,
          959,
          192,
          656,
          316,
          897,
          793,
          31,
          1057,
          295,
          588,
          434,
          933,
          921,
          75,
          361,
          264,
          828,
          1010,
          568,
          576,
          477,
          85,
          465,
          34,
          834,
          183,
          827,
          1068,
          553,
          847,
          466,
          482,
          823,
          224,
          406,
          939,
          989,
          175,
          452,
          436,
          582,
          702,
          18,
          1,
          602,
          646,
          626,
          270,
          557,
          713,
          722,
          253,
          108,
          317,
          204,
          481,
          267,
          548,
          279,
          231,
          472,
          1044,
          967,
          1007,
          790,
          249,
          664,
          876,
          911,
          55,
          900,
          142,
          1030,
          858,
          268,
          103,
          681,
          520,
          871,
          15,
          408,
          948,
          803,
          384,
          994,
          1094,
          729,
          453,
          431,
          239,
          485,
          561,
          367,
          359,
          418,
          312,
          45,
          303,
          883,
          912,
          315,
          940,
          97,
          399,
          1034,
          489,
          968,
          196,
          122,
          789,
          986,
          81,
          141,
          703,
          77,
          283,
          808,
          988,
          879,
          678,
          583,
          319,
          1026,
          677,
          826,
          1049,
          809,
          745,
          240,
          467,
          567,
          1037,
          386,
          1024,
          382,
          5,
          985,
          919,
          2,
          992,
          571,
          82,
          786,
          247,
          1039,
          622,
          521,
          907,
          462,
          294,
          1025,
          717,
          564,
          746,
          580,
          457,
          773,
          605,
          956,
          891,
          251,
          754,
          980,
          1011,
          796,
          884,
          505,
          443,
          869,
          200,
          990,
          65,
          841,
          1087,
          686,
          759,
          655,
          1089,
          870,
          665,
          674
         ],
         "y": [
          15.2,
          19,
          15,
          10.1,
          11,
          17.3,
          9.5,
          15.2,
          11.1,
          16.6,
          6.4,
          4.5,
          13.2,
          8.7,
          14.9,
          8.8,
          20.9,
          19.8,
          13.9,
          9.1,
          15.4,
          13.3,
          8.5,
          8.3,
          16.2,
          19.1,
          7.2,
          5.7,
          10.6,
          8.6,
          10,
          8.1,
          5.6,
          8.1,
          10.2,
          12,
          6.9,
          20.5,
          7.7,
          12.4,
          12.9,
          16.9,
          9.3,
          19.3,
          14.1,
          11.1,
          11.4,
          7.8,
          17.8,
          9.8,
          5.4,
          14.5,
          12.9,
          13.5,
          15.1,
          6,
          3.1,
          7.6,
          9.8,
          16.7,
          15.3,
          15.1,
          9.9,
          5.8,
          15.2,
          20.5,
          7,
          8.9,
          13.9,
          15.8,
          12.2,
          4.8,
          15.9,
          7.9,
          3.7,
          8.1,
          10.4,
          12.8,
          7.6,
          13.3,
          16.2,
          14.3,
          6.2,
          9.4,
          10.6,
          8.8,
          7.1,
          12.2,
          12.7,
          13.2,
          12.7,
          17.5,
          8.5,
          14,
          8.2,
          9.7,
          6,
          9.7,
          12,
          8.6,
          8,
          14,
          17.3,
          8.8,
          8,
          8.2,
          7.4,
          13.3,
          8.3,
          9.4,
          18.4,
          6.9,
          11.1,
          15.2,
          9.4,
          8.9,
          4.5,
          17.6,
          17.5,
          7.7,
          15,
          16,
          6.8,
          13,
          12.7,
          9.7,
          20.3,
          6.7,
          14.2,
          2.6,
          18.5,
          15.8,
          13,
          12.5,
          13.2,
          14.3,
          8.4,
          7.3,
          10.3,
          6,
          14.7,
          15.7,
          15.4,
          10.4,
          2.1,
          5.3,
          14.5,
          19.3,
          7.2,
          15.6,
          8.2,
          10.6,
          15.3,
          12.3,
          13.6,
          10.4,
          6.1,
          9.7,
          7.6,
          8.6,
          12.4,
          8.3,
          15.8,
          12.3,
          12.5,
          10.7,
          8.8,
          14,
          1.6,
          11.1,
          15,
          9,
          13.9,
          15.2,
          9.8,
          10.2,
          13.5,
          16.3,
          4.2,
          14.4,
          16.5,
          5.5,
          18.3,
          8.9,
          7.8,
          5.9,
          11.9,
          10.3,
          10.9,
          16.4,
          5.8,
          11.5,
          8.4,
          14.2,
          13,
          7,
          8.4,
          7.2,
          13,
          15,
          3,
          9.8,
          10.3,
          8.5,
          5.2,
          17.1,
          8.7,
          9.3,
          7.3,
          14.2,
          14.7,
          10,
          10.9,
          16.4,
          13.2,
          14.6,
          5.8,
          9,
          13.3
         ]
        }
       ],
       "layout": {
        "template": {
         "data": {
          "bar": [
           {
            "error_x": {
             "color": "#2a3f5f"
            },
            "error_y": {
             "color": "#2a3f5f"
            },
            "marker": {
             "line": {
              "color": "#E5ECF6",
              "width": 0.5
             }
            },
            "type": "bar"
           }
          ],
          "barpolar": [
           {
            "marker": {
             "line": {
              "color": "#E5ECF6",
              "width": 0.5
             }
            },
            "type": "barpolar"
           }
          ],
          "carpet": [
           {
            "aaxis": {
             "endlinecolor": "#2a3f5f",
             "gridcolor": "white",
             "linecolor": "white",
             "minorgridcolor": "white",
             "startlinecolor": "#2a3f5f"
            },
            "baxis": {
             "endlinecolor": "#2a3f5f",
             "gridcolor": "white",
             "linecolor": "white",
             "minorgridcolor": "white",
             "startlinecolor": "#2a3f5f"
            },
            "type": "carpet"
           }
          ],
          "choropleth": [
           {
            "colorbar": {
             "outlinewidth": 0,
             "ticks": ""
            },
            "type": "choropleth"
           }
          ],
          "contour": [
           {
            "colorbar": {
             "outlinewidth": 0,
             "ticks": ""
            },
            "colorscale": [
             [
              0,
              "#0d0887"
             ],
             [
              0.1111111111111111,
              "#46039f"
             ],
             [
              0.2222222222222222,
              "#7201a8"
             ],
             [
              0.3333333333333333,
              "#9c179e"
             ],
             [
              0.4444444444444444,
              "#bd3786"
             ],
             [
              0.5555555555555556,
              "#d8576b"
             ],
             [
              0.6666666666666666,
              "#ed7953"
             ],
             [
              0.7777777777777778,
              "#fb9f3a"
             ],
             [
              0.8888888888888888,
              "#fdca26"
             ],
             [
              1,
              "#f0f921"
             ]
            ],
            "type": "contour"
           }
          ],
          "contourcarpet": [
           {
            "colorbar": {
             "outlinewidth": 0,
             "ticks": ""
            },
            "type": "contourcarpet"
           }
          ],
          "heatmap": [
           {
            "colorbar": {
             "outlinewidth": 0,
             "ticks": ""
            },
            "colorscale": [
             [
              0,
              "#0d0887"
             ],
             [
              0.1111111111111111,
              "#46039f"
             ],
             [
              0.2222222222222222,
              "#7201a8"
             ],
             [
              0.3333333333333333,
              "#9c179e"
             ],
             [
              0.4444444444444444,
              "#bd3786"
             ],
             [
              0.5555555555555556,
              "#d8576b"
             ],
             [
              0.6666666666666666,
              "#ed7953"
             ],
             [
              0.7777777777777778,
              "#fb9f3a"
             ],
             [
              0.8888888888888888,
              "#fdca26"
             ],
             [
              1,
              "#f0f921"
             ]
            ],
            "type": "heatmap"
           }
          ],
          "heatmapgl": [
           {
            "colorbar": {
             "outlinewidth": 0,
             "ticks": ""
            },
            "colorscale": [
             [
              0,
              "#0d0887"
             ],
             [
              0.1111111111111111,
              "#46039f"
             ],
             [
              0.2222222222222222,
              "#7201a8"
             ],
             [
              0.3333333333333333,
              "#9c179e"
             ],
             [
              0.4444444444444444,
              "#bd3786"
             ],
             [
              0.5555555555555556,
              "#d8576b"
             ],
             [
              0.6666666666666666,
              "#ed7953"
             ],
             [
              0.7777777777777778,
              "#fb9f3a"
             ],
             [
              0.8888888888888888,
              "#fdca26"
             ],
             [
              1,
              "#f0f921"
             ]
            ],
            "type": "heatmapgl"
           }
          ],
          "histogram": [
           {
            "marker": {
             "colorbar": {
              "outlinewidth": 0,
              "ticks": ""
             }
            },
            "type": "histogram"
           }
          ],
          "histogram2d": [
           {
            "colorbar": {
             "outlinewidth": 0,
             "ticks": ""
            },
            "colorscale": [
             [
              0,
              "#0d0887"
             ],
             [
              0.1111111111111111,
              "#46039f"
             ],
             [
              0.2222222222222222,
              "#7201a8"
             ],
             [
              0.3333333333333333,
              "#9c179e"
             ],
             [
              0.4444444444444444,
              "#bd3786"
             ],
             [
              0.5555555555555556,
              "#d8576b"
             ],
             [
              0.6666666666666666,
              "#ed7953"
             ],
             [
              0.7777777777777778,
              "#fb9f3a"
             ],
             [
              0.8888888888888888,
              "#fdca26"
             ],
             [
              1,
              "#f0f921"
             ]
            ],
            "type": "histogram2d"
           }
          ],
          "histogram2dcontour": [
           {
            "colorbar": {
             "outlinewidth": 0,
             "ticks": ""
            },
            "colorscale": [
             [
              0,
              "#0d0887"
             ],
             [
              0.1111111111111111,
              "#46039f"
             ],
             [
              0.2222222222222222,
              "#7201a8"
             ],
             [
              0.3333333333333333,
              "#9c179e"
             ],
             [
              0.4444444444444444,
              "#bd3786"
             ],
             [
              0.5555555555555556,
              "#d8576b"
             ],
             [
              0.6666666666666666,
              "#ed7953"
             ],
             [
              0.7777777777777778,
              "#fb9f3a"
             ],
             [
              0.8888888888888888,
              "#fdca26"
             ],
             [
              1,
              "#f0f921"
             ]
            ],
            "type": "histogram2dcontour"
           }
          ],
          "mesh3d": [
           {
            "colorbar": {
             "outlinewidth": 0,
             "ticks": ""
            },
            "type": "mesh3d"
           }
          ],
          "parcoords": [
           {
            "line": {
             "colorbar": {
              "outlinewidth": 0,
              "ticks": ""
             }
            },
            "type": "parcoords"
           }
          ],
          "pie": [
           {
            "automargin": true,
            "type": "pie"
           }
          ],
          "scatter": [
           {
            "marker": {
             "colorbar": {
              "outlinewidth": 0,
              "ticks": ""
             }
            },
            "type": "scatter"
           }
          ],
          "scatter3d": [
           {
            "line": {
             "colorbar": {
              "outlinewidth": 0,
              "ticks": ""
             }
            },
            "marker": {
             "colorbar": {
              "outlinewidth": 0,
              "ticks": ""
             }
            },
            "type": "scatter3d"
           }
          ],
          "scattercarpet": [
           {
            "marker": {
             "colorbar": {
              "outlinewidth": 0,
              "ticks": ""
             }
            },
            "type": "scattercarpet"
           }
          ],
          "scattergeo": [
           {
            "marker": {
             "colorbar": {
              "outlinewidth": 0,
              "ticks": ""
             }
            },
            "type": "scattergeo"
           }
          ],
          "scattergl": [
           {
            "marker": {
             "colorbar": {
              "outlinewidth": 0,
              "ticks": ""
             }
            },
            "type": "scattergl"
           }
          ],
          "scattermapbox": [
           {
            "marker": {
             "colorbar": {
              "outlinewidth": 0,
              "ticks": ""
             }
            },
            "type": "scattermapbox"
           }
          ],
          "scatterpolar": [
           {
            "marker": {
             "colorbar": {
              "outlinewidth": 0,
              "ticks": ""
             }
            },
            "type": "scatterpolar"
           }
          ],
          "scatterpolargl": [
           {
            "marker": {
             "colorbar": {
              "outlinewidth": 0,
              "ticks": ""
             }
            },
            "type": "scatterpolargl"
           }
          ],
          "scatterternary": [
           {
            "marker": {
             "colorbar": {
              "outlinewidth": 0,
              "ticks": ""
             }
            },
            "type": "scatterternary"
           }
          ],
          "surface": [
           {
            "colorbar": {
             "outlinewidth": 0,
             "ticks": ""
            },
            "colorscale": [
             [
              0,
              "#0d0887"
             ],
             [
              0.1111111111111111,
              "#46039f"
             ],
             [
              0.2222222222222222,
              "#7201a8"
             ],
             [
              0.3333333333333333,
              "#9c179e"
             ],
             [
              0.4444444444444444,
              "#bd3786"
             ],
             [
              0.5555555555555556,
              "#d8576b"
             ],
             [
              0.6666666666666666,
              "#ed7953"
             ],
             [
              0.7777777777777778,
              "#fb9f3a"
             ],
             [
              0.8888888888888888,
              "#fdca26"
             ],
             [
              1,
              "#f0f921"
             ]
            ],
            "type": "surface"
           }
          ],
          "table": [
           {
            "cells": {
             "fill": {
              "color": "#EBF0F8"
             },
             "line": {
              "color": "white"
             }
            },
            "header": {
             "fill": {
              "color": "#C8D4E3"
             },
             "line": {
              "color": "white"
             }
            },
            "type": "table"
           }
          ]
         },
         "layout": {
          "annotationdefaults": {
           "arrowcolor": "#2a3f5f",
           "arrowhead": 0,
           "arrowwidth": 1
          },
          "coloraxis": {
           "colorbar": {
            "outlinewidth": 0,
            "ticks": ""
           }
          },
          "colorscale": {
           "diverging": [
            [
             0,
             "#8e0152"
            ],
            [
             0.1,
             "#c51b7d"
            ],
            [
             0.2,
             "#de77ae"
            ],
            [
             0.3,
             "#f1b6da"
            ],
            [
             0.4,
             "#fde0ef"
            ],
            [
             0.5,
             "#f7f7f7"
            ],
            [
             0.6,
             "#e6f5d0"
            ],
            [
             0.7,
             "#b8e186"
            ],
            [
             0.8,
             "#7fbc41"
            ],
            [
             0.9,
             "#4d9221"
            ],
            [
             1,
             "#276419"
            ]
           ],
           "sequential": [
            [
             0,
             "#0d0887"
            ],
            [
             0.1111111111111111,
             "#46039f"
            ],
            [
             0.2222222222222222,
             "#7201a8"
            ],
            [
             0.3333333333333333,
             "#9c179e"
            ],
            [
             0.4444444444444444,
             "#bd3786"
            ],
            [
             0.5555555555555556,
             "#d8576b"
            ],
            [
             0.6666666666666666,
             "#ed7953"
            ],
            [
             0.7777777777777778,
             "#fb9f3a"
            ],
            [
             0.8888888888888888,
             "#fdca26"
            ],
            [
             1,
             "#f0f921"
            ]
           ],
           "sequentialminus": [
            [
             0,
             "#0d0887"
            ],
            [
             0.1111111111111111,
             "#46039f"
            ],
            [
             0.2222222222222222,
             "#7201a8"
            ],
            [
             0.3333333333333333,
             "#9c179e"
            ],
            [
             0.4444444444444444,
             "#bd3786"
            ],
            [
             0.5555555555555556,
             "#d8576b"
            ],
            [
             0.6666666666666666,
             "#ed7953"
            ],
            [
             0.7777777777777778,
             "#fb9f3a"
            ],
            [
             0.8888888888888888,
             "#fdca26"
            ],
            [
             1,
             "#f0f921"
            ]
           ]
          },
          "colorway": [
           "#636efa",
           "#EF553B",
           "#00cc96",
           "#ab63fa",
           "#FFA15A",
           "#19d3f3",
           "#FF6692",
           "#B6E880",
           "#FF97FF",
           "#FECB52"
          ],
          "font": {
           "color": "#2a3f5f"
          },
          "geo": {
           "bgcolor": "white",
           "lakecolor": "white",
           "landcolor": "#E5ECF6",
           "showlakes": true,
           "showland": true,
           "subunitcolor": "white"
          },
          "hoverlabel": {
           "align": "left"
          },
          "hovermode": "closest",
          "mapbox": {
           "style": "light"
          },
          "paper_bgcolor": "white",
          "plot_bgcolor": "#E5ECF6",
          "polar": {
           "angularaxis": {
            "gridcolor": "white",
            "linecolor": "white",
            "ticks": ""
           },
           "bgcolor": "#E5ECF6",
           "radialaxis": {
            "gridcolor": "white",
            "linecolor": "white",
            "ticks": ""
           }
          },
          "scene": {
           "xaxis": {
            "backgroundcolor": "#E5ECF6",
            "gridcolor": "white",
            "gridwidth": 2,
            "linecolor": "white",
            "showbackground": true,
            "ticks": "",
            "zerolinecolor": "white"
           },
           "yaxis": {
            "backgroundcolor": "#E5ECF6",
            "gridcolor": "white",
            "gridwidth": 2,
            "linecolor": "white",
            "showbackground": true,
            "ticks": "",
            "zerolinecolor": "white"
           },
           "zaxis": {
            "backgroundcolor": "#E5ECF6",
            "gridcolor": "white",
            "gridwidth": 2,
            "linecolor": "white",
            "showbackground": true,
            "ticks": "",
            "zerolinecolor": "white"
           }
          },
          "shapedefaults": {
           "line": {
            "color": "#2a3f5f"
           }
          },
          "ternary": {
           "aaxis": {
            "gridcolor": "white",
            "linecolor": "white",
            "ticks": ""
           },
           "baxis": {
            "gridcolor": "white",
            "linecolor": "white",
            "ticks": ""
           },
           "bgcolor": "#E5ECF6",
           "caxis": {
            "gridcolor": "white",
            "linecolor": "white",
            "ticks": ""
           }
          },
          "title": {
           "x": 0.05
          },
          "xaxis": {
           "automargin": true,
           "gridcolor": "white",
           "linecolor": "white",
           "ticks": "",
           "title": {
            "standoff": 15
           },
           "zerolinecolor": "white",
           "zerolinewidth": 2
          },
          "yaxis": {
           "automargin": true,
           "gridcolor": "white",
           "linecolor": "white",
           "ticks": "",
           "title": {
            "standoff": 15
           },
           "zerolinecolor": "white",
           "zerolinewidth": 2
          }
         }
        }
       }
      },
      "text/html": [
       "<div>\n",
       "        \n",
       "        \n",
       "            <div id=\"5926fe7b-a869-4eef-9c4a-8e7f6ed2f5be\" class=\"plotly-graph-div\" style=\"height:525px; width:100%;\"></div>\n",
       "            <script type=\"text/javascript\">\n",
       "                require([\"plotly\"], function(Plotly) {\n",
       "                    window.PLOTLYENV=window.PLOTLYENV || {};\n",
       "                    \n",
       "                if (document.getElementById(\"5926fe7b-a869-4eef-9c4a-8e7f6ed2f5be\")) {\n",
       "                    Plotly.newPlot(\n",
       "                        '5926fe7b-a869-4eef-9c4a-8e7f6ed2f5be',\n",
       "                        [{\"mode\": \"markers\", \"name\": \"predicted data\", \"type\": \"scatter\", \"x\": [784, 741, 747, 987, 479, 27, 159, 356, 320, 351, 952, 878, 484, 272, 692, 1060, 14, 358, 851, 927, 1041, 1028, 278, 619, 390, 788, 654, 944, 860, 949, 70, 937, 202, 596, 863, 440, 549, 413, 959, 192, 656, 316, 897, 793, 31, 1057, 295, 588, 434, 933, 921, 75, 361, 264, 828, 1010, 568, 576, 477, 85, 465, 34, 834, 183, 827, 1068, 553, 847, 466, 482, 823, 224, 406, 939, 989, 175, 452, 436, 582, 702, 18, 1, 602, 646, 626, 270, 557, 713, 722, 253, 108, 317, 204, 481, 267, 548, 279, 231, 472, 1044, 967, 1007, 790, 249, 664, 876, 911, 55, 900, 142, 1030, 858, 268, 103, 681, 520, 871, 15, 408, 948, 803, 384, 994, 1094, 729, 453, 431, 239, 485, 561, 367, 359, 418, 312, 45, 303, 883, 912, 315, 940, 97, 399, 1034, 489, 968, 196, 122, 789, 986, 81, 141, 703, 77, 283, 808, 988, 879, 678, 583, 319, 1026, 677, 826, 1049, 809, 745, 240, 467, 567, 1037, 386, 1024, 382, 5, 985, 919, 2, 992, 571, 82, 786, 247, 1039, 622, 521, 907, 462, 294, 1025, 717, 564, 746, 580, 457, 773, 605, 956, 891, 251, 754, 980, 1011, 796, 884, 505, 443, 869, 200, 990, 65, 841, 1087, 686, 759, 655, 1089, 870, 665, 674], \"y\": [15.251098453792746, 14.664885765231041, 14.70077664511413, 9.592786293765217, 11.525697204348864, 14.852755989005821, 8.60619905911371, 14.387259876554158, 12.269346031807668, 14.456905516072553, 8.213996783265365, 9.077088412861466, 11.44449734759409, 10.658706345609714, 13.639990304030878, 13.19094686031482, 15.570193122968702, 14.327878383699911, 12.258153699590453, 9.23952932979704, 12.648800712867939, 11.702049276851291, 10.957648618721839, 8.02821938565656, 15.105809891532157, 15.242666378609368, 10.079330912331027, 8.652977215538721, 11.31987835011997, 8.354973090833116, 14.822316000610364, 9.059859290341825, 8.338142748667561, 6.959458685387578, 10.97259132630656, 15.306574220615762, 7.022840710987437, 17.266242867601093, 8.081903438077074, 8.02821644470571, 10.17646454465938, 12.012744836011882, 7.688788471473873, 15.166739279942162, 14.65544626414701, 13.123077014773362, 11.482069140690694, 6.988068191248791, 16.135593578586885, 9.208700828532113, 9.02205674630063, 14.64917007278649, 14.220934661262897, 10.270217901865909, 14.019266514664045, 10.265485586162523, 7.2064010187524845, 7.187333218750699, 11.570200638832679, 14.120170290599972, 12.1459422468125, 14.552822007685233, 13.661984561849716, 7.80862379100803, 14.070404234485549, 13.396828384979981, 7.012547292584946, 12.631082552531659, 12.072584926021712, 11.473687431341439, 14.252131586076354, 9.186373833806497, 16.86501403786857, 8.95650215259176, 9.67491940182545, 7.761708834960174, 13.54866635080128, 15.873195803851846, 7.091656859253726, 14.082958034264212, 15.389938612723833, 15.39277629757922, 7.080212561452672, 9.727668923535859, 8.538010970222636, 10.556717353045652, 7.052155502481441, 14.135478897631657, 14.226240700884926, 9.906691248762932, 13.159677304414616, 12.070534798692982, 8.405095921112894, 11.489546877175629, 10.40818743936102, 7.035855864664345, 11.0039993184504, 9.441572628050857, 11.735458668431864, 12.78021057629549, 8.319787756832563, 10.136176328923105, 15.220200260000759, 9.82641637116842, 10.682052563529055, 9.327474977513234, 8.313231870516264, 14.81212613844101, 7.716522757025388, 10.885495925840866, 11.88147597677407, 11.54149347339494, 10.456795871927152, 13.2616722883375, 12.518964016233735, 9.236802390805655, 9.972432134426981, 15.53264355754838, 17.015146239301544, 8.40993792281795, 14.889339958807106, 14.490352416578496, 9.824977942311905, 13.509231248417132, 14.400192479746558, 13.414502725142649, 16.492669102745523, 9.650682505353076, 11.430394875749409, 7.115446767419091, 14.01684900256362, 14.293894731199797, 17.317708138358192, 11.823334050086208, 14.549496301562021, 11.593257587301094, 8.50207388912223, 8.389629964865755, 11.959207454823636, 8.899608509411097, 13.469439794716859, 16.169076318081785, 12.210298927167141, 11.368361228679275, 8.374564383949714, 8.147517464435754, 12.86892628600189, 15.232866839586514, 9.546375744991819, 14.351146042324771, 11.02927960111596, 14.098587172364578, 14.558925254683631, 11.1724326188995, 14.738293792693742, 9.63561364366466, 8.955293664047938, 12.153116986160068, 7.072965411475615, 12.198888269976145, 11.51691510807354, 12.031076636271942, 14.119186945362708, 12.940329187894692, 14.708725265119483, 14.695273772583077, 9.670690131187492, 12.004315332865941, 7.198226684052412, 12.421430390097116, 14.676797536999594, 11.329845195758269, 14.327930109756576, 15.590281278642651, 9.496383977117773, 8.90307953737611, 15.453765469098347, 9.773240694991573, 7.217217729444254, 14.294908984160452, 15.253173899989845, 9.791839629759425, 12.542907549763797, 8.245865843623895, 9.123629882383717, 8.029356266587158, 12.396940164977307, 11.466128425428776, 11.423376415317582, 14.155481162091961, 7.162421309339518, 14.698657866359609, 7.127954302503148, 12.916516634362937, 15.046515011709449, 7.19017561062331, 8.100176055501938, 7.856230324317849, 9.864158669826992, 14.704307953190439, 9.197221452771341, 10.3169958925245, 15.094607807619093, 8.399708760941738, 10.695371294012972, 14.860360222351874, 10.22994749028886, 8.273049245778418, 9.710827324289465, 14.907438820712509, 13.1442458250123, 13.65661456834203, 13.092363961051452, 14.732588332846948, 10.126915198236087, 13.629486725601994, 10.10155111441815, 10.762625844885633, 11.672549619855852]}, {\"mode\": \"markers\", \"name\": \"test data\", \"type\": \"scatter\", \"x\": [784, 741, 747, 987, 479, 27, 159, 356, 320, 351, 952, 878, 484, 272, 692, 1060, 14, 358, 851, 927, 1041, 1028, 278, 619, 390, 788, 654, 944, 860, 949, 70, 937, 202, 596, 863, 440, 549, 413, 959, 192, 656, 316, 897, 793, 31, 1057, 295, 588, 434, 933, 921, 75, 361, 264, 828, 1010, 568, 576, 477, 85, 465, 34, 834, 183, 827, 1068, 553, 847, 466, 482, 823, 224, 406, 939, 989, 175, 452, 436, 582, 702, 18, 1, 602, 646, 626, 270, 557, 713, 722, 253, 108, 317, 204, 481, 267, 548, 279, 231, 472, 1044, 967, 1007, 790, 249, 664, 876, 911, 55, 900, 142, 1030, 858, 268, 103, 681, 520, 871, 15, 408, 948, 803, 384, 994, 1094, 729, 453, 431, 239, 485, 561, 367, 359, 418, 312, 45, 303, 883, 912, 315, 940, 97, 399, 1034, 489, 968, 196, 122, 789, 986, 81, 141, 703, 77, 283, 808, 988, 879, 678, 583, 319, 1026, 677, 826, 1049, 809, 745, 240, 467, 567, 1037, 386, 1024, 382, 5, 985, 919, 2, 992, 571, 82, 786, 247, 1039, 622, 521, 907, 462, 294, 1025, 717, 564, 746, 580, 457, 773, 605, 956, 891, 251, 754, 980, 1011, 796, 884, 505, 443, 869, 200, 990, 65, 841, 1087, 686, 759, 655, 1089, 870, 665, 674], \"y\": [15.2, 19.0, 15.0, 10.1, 11.0, 17.3, 9.5, 15.2, 11.1, 16.6, 6.4, 4.5, 13.2, 8.7, 14.9, 8.8, 20.9, 19.8, 13.9, 9.1, 15.4, 13.3, 8.5, 8.3, 16.2, 19.1, 7.2, 5.7, 10.6, 8.6, 10.0, 8.1, 5.6, 8.1, 10.2, 12.0, 6.9, 20.5, 7.7, 12.4, 12.9, 16.9, 9.3, 19.3, 14.1, 11.1, 11.4, 7.8, 17.8, 9.8, 5.4, 14.5, 12.9, 13.5, 15.1, 6.0, 3.1, 7.6, 9.8, 16.7, 15.3, 15.1, 9.9, 5.8, 15.2, 20.5, 7.0, 8.9, 13.9, 15.8, 12.2, 4.8, 15.9, 7.9, 3.7, 8.1, 10.4, 12.8, 7.6, 13.3, 16.2, 14.3, 6.2, 9.4, 10.6, 8.8, 7.1, 12.2, 12.7, 13.2, 12.7, 17.5, 8.5, 14.0, 8.2, 9.7, 6.0, 9.7, 12.0, 8.6, 8.0, 14.0, 17.3, 8.8, 8.0, 8.2, 7.4, 13.3, 8.3, 9.4, 18.4, 6.9, 11.1, 15.2, 9.4, 8.9, 4.5, 17.6, 17.5, 7.7, 15.0, 16.0, 6.8, 13.0, 12.7, 9.7, 20.3, 6.7, 14.2, 2.6, 18.5, 15.8, 13.0, 12.5, 13.2, 14.3, 8.4, 7.3, 10.3, 6.0, 14.7, 15.7, 15.4, 10.4, 2.1, 5.3, 14.5, 19.3, 7.2, 15.6, 8.2, 10.6, 15.3, 12.3, 13.6, 10.4, 6.1, 9.7, 7.6, 8.6, 12.4, 8.3, 15.8, 12.3, 12.5, 10.7, 8.8, 14.0, 1.6, 11.1, 15.0, 9.0, 13.9, 15.2, 9.8, 10.2, 13.5, 16.3, 4.2, 14.4, 16.5, 5.5, 18.3, 8.9, 7.8, 5.9, 11.9, 10.3, 10.9, 16.4, 5.8, 11.5, 8.4, 14.2, 13.0, 7.0, 8.4, 7.2, 13.0, 15.0, 3.0, 9.8, 10.3, 8.5, 5.2, 17.1, 8.7, 9.3, 7.3, 14.2, 14.7, 10.0, 10.9, 16.4, 13.2, 14.6, 5.8, 9.0, 13.3]}],\n",
       "                        {\"template\": {\"data\": {\"bar\": [{\"error_x\": {\"color\": \"#2a3f5f\"}, \"error_y\": {\"color\": \"#2a3f5f\"}, \"marker\": {\"line\": {\"color\": \"#E5ECF6\", \"width\": 0.5}}, \"type\": \"bar\"}], \"barpolar\": [{\"marker\": {\"line\": {\"color\": \"#E5ECF6\", \"width\": 0.5}}, \"type\": \"barpolar\"}], \"carpet\": [{\"aaxis\": {\"endlinecolor\": \"#2a3f5f\", \"gridcolor\": \"white\", \"linecolor\": \"white\", \"minorgridcolor\": \"white\", \"startlinecolor\": \"#2a3f5f\"}, \"baxis\": {\"endlinecolor\": \"#2a3f5f\", \"gridcolor\": \"white\", \"linecolor\": \"white\", \"minorgridcolor\": \"white\", \"startlinecolor\": \"#2a3f5f\"}, \"type\": \"carpet\"}], \"choropleth\": [{\"colorbar\": {\"outlinewidth\": 0, \"ticks\": \"\"}, \"type\": \"choropleth\"}], \"contour\": [{\"colorbar\": {\"outlinewidth\": 0, \"ticks\": \"\"}, \"colorscale\": [[0.0, \"#0d0887\"], [0.1111111111111111, \"#46039f\"], [0.2222222222222222, \"#7201a8\"], [0.3333333333333333, \"#9c179e\"], [0.4444444444444444, \"#bd3786\"], [0.5555555555555556, \"#d8576b\"], [0.6666666666666666, \"#ed7953\"], [0.7777777777777778, \"#fb9f3a\"], [0.8888888888888888, \"#fdca26\"], [1.0, \"#f0f921\"]], \"type\": \"contour\"}], \"contourcarpet\": [{\"colorbar\": {\"outlinewidth\": 0, \"ticks\": \"\"}, \"type\": \"contourcarpet\"}], \"heatmap\": [{\"colorbar\": {\"outlinewidth\": 0, \"ticks\": \"\"}, \"colorscale\": [[0.0, \"#0d0887\"], [0.1111111111111111, \"#46039f\"], [0.2222222222222222, \"#7201a8\"], [0.3333333333333333, \"#9c179e\"], [0.4444444444444444, \"#bd3786\"], [0.5555555555555556, \"#d8576b\"], [0.6666666666666666, \"#ed7953\"], [0.7777777777777778, \"#fb9f3a\"], [0.8888888888888888, \"#fdca26\"], [1.0, \"#f0f921\"]], \"type\": \"heatmap\"}], \"heatmapgl\": [{\"colorbar\": {\"outlinewidth\": 0, \"ticks\": \"\"}, \"colorscale\": [[0.0, \"#0d0887\"], [0.1111111111111111, \"#46039f\"], [0.2222222222222222, \"#7201a8\"], [0.3333333333333333, \"#9c179e\"], [0.4444444444444444, \"#bd3786\"], [0.5555555555555556, \"#d8576b\"], [0.6666666666666666, \"#ed7953\"], [0.7777777777777778, \"#fb9f3a\"], [0.8888888888888888, \"#fdca26\"], [1.0, \"#f0f921\"]], \"type\": \"heatmapgl\"}], \"histogram\": [{\"marker\": {\"colorbar\": {\"outlinewidth\": 0, \"ticks\": \"\"}}, \"type\": \"histogram\"}], \"histogram2d\": [{\"colorbar\": {\"outlinewidth\": 0, \"ticks\": \"\"}, \"colorscale\": [[0.0, \"#0d0887\"], [0.1111111111111111, \"#46039f\"], [0.2222222222222222, \"#7201a8\"], [0.3333333333333333, \"#9c179e\"], [0.4444444444444444, \"#bd3786\"], [0.5555555555555556, \"#d8576b\"], [0.6666666666666666, \"#ed7953\"], [0.7777777777777778, \"#fb9f3a\"], [0.8888888888888888, \"#fdca26\"], [1.0, \"#f0f921\"]], \"type\": \"histogram2d\"}], \"histogram2dcontour\": [{\"colorbar\": {\"outlinewidth\": 0, \"ticks\": \"\"}, \"colorscale\": [[0.0, \"#0d0887\"], [0.1111111111111111, \"#46039f\"], [0.2222222222222222, \"#7201a8\"], [0.3333333333333333, \"#9c179e\"], [0.4444444444444444, \"#bd3786\"], [0.5555555555555556, \"#d8576b\"], [0.6666666666666666, \"#ed7953\"], [0.7777777777777778, \"#fb9f3a\"], [0.8888888888888888, \"#fdca26\"], [1.0, \"#f0f921\"]], \"type\": \"histogram2dcontour\"}], \"mesh3d\": [{\"colorbar\": {\"outlinewidth\": 0, \"ticks\": \"\"}, \"type\": \"mesh3d\"}], \"parcoords\": [{\"line\": {\"colorbar\": {\"outlinewidth\": 0, \"ticks\": \"\"}}, \"type\": \"parcoords\"}], \"pie\": [{\"automargin\": true, \"type\": \"pie\"}], \"scatter\": [{\"marker\": {\"colorbar\": {\"outlinewidth\": 0, \"ticks\": \"\"}}, \"type\": \"scatter\"}], \"scatter3d\": [{\"line\": {\"colorbar\": {\"outlinewidth\": 0, \"ticks\": \"\"}}, \"marker\": {\"colorbar\": {\"outlinewidth\": 0, \"ticks\": \"\"}}, \"type\": \"scatter3d\"}], \"scattercarpet\": [{\"marker\": {\"colorbar\": {\"outlinewidth\": 0, \"ticks\": \"\"}}, \"type\": \"scattercarpet\"}], \"scattergeo\": [{\"marker\": {\"colorbar\": {\"outlinewidth\": 0, \"ticks\": \"\"}}, \"type\": \"scattergeo\"}], \"scattergl\": [{\"marker\": {\"colorbar\": {\"outlinewidth\": 0, \"ticks\": \"\"}}, \"type\": \"scattergl\"}], \"scattermapbox\": [{\"marker\": {\"colorbar\": {\"outlinewidth\": 0, \"ticks\": \"\"}}, \"type\": \"scattermapbox\"}], \"scatterpolar\": [{\"marker\": {\"colorbar\": {\"outlinewidth\": 0, \"ticks\": \"\"}}, \"type\": \"scatterpolar\"}], \"scatterpolargl\": [{\"marker\": {\"colorbar\": {\"outlinewidth\": 0, \"ticks\": \"\"}}, \"type\": \"scatterpolargl\"}], \"scatterternary\": [{\"marker\": {\"colorbar\": {\"outlinewidth\": 0, \"ticks\": \"\"}}, \"type\": \"scatterternary\"}], \"surface\": [{\"colorbar\": {\"outlinewidth\": 0, \"ticks\": \"\"}, \"colorscale\": [[0.0, \"#0d0887\"], [0.1111111111111111, \"#46039f\"], [0.2222222222222222, \"#7201a8\"], [0.3333333333333333, \"#9c179e\"], [0.4444444444444444, \"#bd3786\"], [0.5555555555555556, \"#d8576b\"], [0.6666666666666666, \"#ed7953\"], [0.7777777777777778, \"#fb9f3a\"], [0.8888888888888888, \"#fdca26\"], [1.0, \"#f0f921\"]], \"type\": \"surface\"}], \"table\": [{\"cells\": {\"fill\": {\"color\": \"#EBF0F8\"}, \"line\": {\"color\": \"white\"}}, \"header\": {\"fill\": {\"color\": \"#C8D4E3\"}, \"line\": {\"color\": \"white\"}}, \"type\": \"table\"}]}, \"layout\": {\"annotationdefaults\": {\"arrowcolor\": \"#2a3f5f\", \"arrowhead\": 0, \"arrowwidth\": 1}, \"coloraxis\": {\"colorbar\": {\"outlinewidth\": 0, \"ticks\": \"\"}}, \"colorscale\": {\"diverging\": [[0, \"#8e0152\"], [0.1, \"#c51b7d\"], [0.2, \"#de77ae\"], [0.3, \"#f1b6da\"], [0.4, \"#fde0ef\"], [0.5, \"#f7f7f7\"], [0.6, \"#e6f5d0\"], [0.7, \"#b8e186\"], [0.8, \"#7fbc41\"], [0.9, \"#4d9221\"], [1, \"#276419\"]], \"sequential\": [[0.0, \"#0d0887\"], [0.1111111111111111, \"#46039f\"], [0.2222222222222222, \"#7201a8\"], [0.3333333333333333, \"#9c179e\"], [0.4444444444444444, \"#bd3786\"], [0.5555555555555556, \"#d8576b\"], [0.6666666666666666, \"#ed7953\"], [0.7777777777777778, \"#fb9f3a\"], [0.8888888888888888, \"#fdca26\"], [1.0, \"#f0f921\"]], \"sequentialminus\": [[0.0, \"#0d0887\"], [0.1111111111111111, \"#46039f\"], [0.2222222222222222, \"#7201a8\"], [0.3333333333333333, \"#9c179e\"], [0.4444444444444444, \"#bd3786\"], [0.5555555555555556, \"#d8576b\"], [0.6666666666666666, \"#ed7953\"], [0.7777777777777778, \"#fb9f3a\"], [0.8888888888888888, \"#fdca26\"], [1.0, \"#f0f921\"]]}, \"colorway\": [\"#636efa\", \"#EF553B\", \"#00cc96\", \"#ab63fa\", \"#FFA15A\", \"#19d3f3\", \"#FF6692\", \"#B6E880\", \"#FF97FF\", \"#FECB52\"], \"font\": {\"color\": \"#2a3f5f\"}, \"geo\": {\"bgcolor\": \"white\", \"lakecolor\": \"white\", \"landcolor\": \"#E5ECF6\", \"showlakes\": true, \"showland\": true, \"subunitcolor\": \"white\"}, \"hoverlabel\": {\"align\": \"left\"}, \"hovermode\": \"closest\", \"mapbox\": {\"style\": \"light\"}, \"paper_bgcolor\": \"white\", \"plot_bgcolor\": \"#E5ECF6\", \"polar\": {\"angularaxis\": {\"gridcolor\": \"white\", \"linecolor\": \"white\", \"ticks\": \"\"}, \"bgcolor\": \"#E5ECF6\", \"radialaxis\": {\"gridcolor\": \"white\", \"linecolor\": \"white\", \"ticks\": \"\"}}, \"scene\": {\"xaxis\": {\"backgroundcolor\": \"#E5ECF6\", \"gridcolor\": \"white\", \"gridwidth\": 2, \"linecolor\": \"white\", \"showbackground\": true, \"ticks\": \"\", \"zerolinecolor\": \"white\"}, \"yaxis\": {\"backgroundcolor\": \"#E5ECF6\", \"gridcolor\": \"white\", \"gridwidth\": 2, \"linecolor\": \"white\", \"showbackground\": true, \"ticks\": \"\", \"zerolinecolor\": \"white\"}, \"zaxis\": {\"backgroundcolor\": \"#E5ECF6\", \"gridcolor\": \"white\", \"gridwidth\": 2, \"linecolor\": \"white\", \"showbackground\": true, \"ticks\": \"\", \"zerolinecolor\": \"white\"}}, \"shapedefaults\": {\"line\": {\"color\": \"#2a3f5f\"}}, \"ternary\": {\"aaxis\": {\"gridcolor\": \"white\", \"linecolor\": \"white\", \"ticks\": \"\"}, \"baxis\": {\"gridcolor\": \"white\", \"linecolor\": \"white\", \"ticks\": \"\"}, \"bgcolor\": \"#E5ECF6\", \"caxis\": {\"gridcolor\": \"white\", \"linecolor\": \"white\", \"ticks\": \"\"}}, \"title\": {\"x\": 0.05}, \"xaxis\": {\"automargin\": true, \"gridcolor\": \"white\", \"linecolor\": \"white\", \"ticks\": \"\", \"title\": {\"standoff\": 15}, \"zerolinecolor\": \"white\", \"zerolinewidth\": 2}, \"yaxis\": {\"automargin\": true, \"gridcolor\": \"white\", \"linecolor\": \"white\", \"ticks\": \"\", \"title\": {\"standoff\": 15}, \"zerolinecolor\": \"white\", \"zerolinewidth\": 2}}}},\n",
       "                        {\"responsive\": true}\n",
       "                    ).then(function(){\n",
       "                            \n",
       "var gd = document.getElementById('5926fe7b-a869-4eef-9c4a-8e7f6ed2f5be');\n",
       "var x = new MutationObserver(function (mutations, observer) {{\n",
       "        var display = window.getComputedStyle(gd).display;\n",
       "        if (!display || display === 'none') {{\n",
       "            console.log([gd, 'removed!']);\n",
       "            Plotly.purge(gd);\n",
       "            observer.disconnect();\n",
       "        }}\n",
       "}});\n",
       "\n",
       "// Listen for the removal of the full notebook cells\n",
       "var notebookContainer = gd.closest('#notebook-container');\n",
       "if (notebookContainer) {{\n",
       "    x.observe(notebookContainer, {childList: true});\n",
       "}}\n",
       "\n",
       "// Listen for the clearing of the current output cell\n",
       "var outputEl = gd.closest('.output');\n",
       "if (outputEl) {{\n",
       "    x.observe(outputEl, {childList: true});\n",
       "}}\n",
       "\n",
       "                        })\n",
       "                };\n",
       "                });\n",
       "            </script>\n",
       "        </div>"
      ]
     },
     "metadata": {},
     "output_type": "display_data"
    }
   ],
   "source": [
    "#df = pd.DataFrame({'Actual': Y_test.flatten(), 'Predicted': y_pred.flatten()})\n",
    "#df\n",
    "\n",
    "fig = go.Figure()\n",
    "fig.add_trace(go.Scatter(x=X_test.flatten(), y=y_pred.flatten(),\n",
    "                    mode='markers',\n",
    "                    name='predicted data'))\n",
    "fig.add_trace(go.Scatter(x=X_test.flatten(), y=Y_test.flatten(),\n",
    "                    mode='markers',\n",
    "                    name='test data'))\n",
    "fig.show()"
   ]
  },
  {
   "cell_type": "code",
   "execution_count": 26,
   "metadata": {},
   "outputs": [
    {
     "data": {
      "text/plain": [
       "0.5877834504023535"
      ]
     },
     "execution_count": 26,
     "metadata": {},
     "output_type": "execute_result"
    }
   ],
   "source": [
    "# Evaluation\n",
    "# 1 - ( Var(y' - y)/Var(y) )\n",
    "explained_variance_score(Y_test, y_pred)"
   ]
  },
  {
   "cell_type": "code",
   "execution_count": null,
   "metadata": {},
   "outputs": [],
   "source": []
  }
 ],
 "metadata": {
  "kernelspec": {
   "display_name": "Python 3",
   "language": "python",
   "name": "python3"
  },
  "language_info": {
   "codemirror_mode": {
    "name": "ipython",
    "version": 3
   },
   "file_extension": ".py",
   "mimetype": "text/x-python",
   "name": "python",
   "nbconvert_exporter": "python",
   "pygments_lexer": "ipython3",
   "version": "3.6.5"
  }
 },
 "nbformat": 4,
 "nbformat_minor": 2
}
