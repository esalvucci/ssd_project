{
 "cells": [
  {
   "cell_type": "code",
   "execution_count": null,
   "metadata": {},
   "outputs": [],
   "source": [
    "import pandas as pd\n",
    "import plotly.express as px\n"
   ]
  },
  {
   "cell_type": "code",
   "execution_count": null,
   "metadata": {},
   "outputs": [],
   "source": [
    "#carico il dataset\n",
    "url = \"https://raw.githubusercontent.com/okHotel/ssd_project/master/data_set/monthly-sunspots.csv\"\n",
    "df = pd.read_csv(url)\n",
    "print(df.head())"
   ]
  },
  {
   "cell_type": "code",
   "execution_count": null,
   "metadata": {},
   "outputs": [],
   "source": [
    "#mesi in ordine crescente\n",
    "df = df.sort_values(by=['Month'])\n",
    "#faccio grafico\n",
    "fig = px.line(df, x='Month', y='Sunspots', title='Monthly-sunspots over 350 years')\n",
    "fig.show()"
   ]
  },
  {
   "cell_type": "code",
   "execution_count": null,
   "metadata": {},
   "outputs": [],
   "source": [
    "import pandas as pd\n",
    "import numpy as np\n",
    "from datetime import datetime\n",
    "import matplotlib.pyplot as plt\n",
    "import pyEX as p"
   ]
  },
  {
   "cell_type": "code",
   "execution_count": null,
   "metadata": {},
   "outputs": [],
   "source": []
  },
  {
   "cell_type": "code",
   "execution_count": null,
   "metadata": {},
   "outputs": [],
   "source": [
    "#vairanza -> qunato ogni valore si discosta dalla sua media\n",
    "#deviazione standard\n",
    "#Set number of days and standard deviations to use for rolling lookback period for Bollinger band calculation\n",
    "window = 20\n",
    "\n",
    "#Calculate rolling mean and standard deviation using number of days set above\n",
    "rolling_mean = df.Sunspots.rolling(window, min_periods=1).mean()\n",
    "rolling_std = df.Sunspots.rolling(window, min_periods=1).std()\n",
    "\n",
    "#create two new DataFrame columns to hold values of upper and lower Bollinger bands\n",
    "plt.plot(df.Sunspots, label='Dataset', color='blue')\n",
    "plt.plot(rolling_mean, label='Rolling mean (w = 20)', color='orange')\n",
    "plt.plot(rolling_std, label='Rolling standard deviation (w = 20)', color='green')"
   ]
  },
  {
   "cell_type": "code",
   "execution_count": null,
   "metadata": {},
   "outputs": [],
   "source": [
    "df['rolling_mean'] = rolling_mean\n",
    "df['rolling_std'] = rolling_std\n",
    "df[:10]"
   ]
  },
  {
   "cell_type": "code",
   "execution_count": null,
   "metadata": {},
   "outputs": [],
   "source": [
    "df1 = pd.DataFrame()\n",
    "df1['Month'] = df.Month.copy()\n",
    "df1['Sunspots'] = df.Sunspots.copy()\n",
    "\n",
    "#df1.head()"
   ]
  },
  {
   "cell_type": "code",
   "execution_count": null,
   "metadata": {},
   "outputs": [],
   "source": [
    "rolling_mean = np.concatenate(([0], df.rolling_mean.values.copy()))\n",
    "rolling_mean = np.resize(rolling_mean, rolling_mean.size -1)\n",
    "df1['Prevision'] = rolling_mean\n"
   ]
  },
  {
   "cell_type": "code",
   "execution_count": null,
   "metadata": {},
   "outputs": [],
   "source": [
    "rolling_std = np.nan_to_num(np.concatenate(([0], df.rolling_std.values.copy())))\n",
    "rolling_std = np.resize(rolling_std, rolling_std.size -1)\n",
    "df1['rolling_std'] = rolling_std\n"
   ]
  },
  {
   "cell_type": "code",
   "execution_count": null,
   "metadata": {},
   "outputs": [],
   "source": [
    "df1['MinRange'] = df1['Prevision'] - df1['rolling_std']\n",
    "df1['MaxRange'] = df1['Prevision'] + df1['rolling_std']\n"
   ]
  },
  {
   "cell_type": "code",
   "execution_count": null,
   "metadata": {},
   "outputs": [],
   "source": [
    "predicate = (df1['Sunspots'] <= df1['MaxRange']) & (df1['Sunspots'] >= df1['MinRange'])\n",
    "df1['Class'] = np.where(predicate, '1', '0')\n",
    "df1[:50]"
   ]
  },
  {
   "cell_type": "code",
   "execution_count": null,
   "metadata": {},
   "outputs": [],
   "source": [
    "plt.plot(df1.Prevision, label='Prevision', color='orange')\n",
    "plt.plot(df1.MinRange, label='MinRange', color='blue')\n",
    "plt.plot(df1.MaxRange, label='MaxRange', color='blue')\n",
    "plt.scatter(df1.Month, df1.Sunspots, label='x = Month, y = Sunspots', s = 1, color='black')\n",
    "plt.show();"
   ]
  },
  {
   "cell_type": "code",
   "execution_count": null,
   "metadata": {},
   "outputs": [],
   "source": [
    "from sklearn.model_selection import train_test_split\n",
    "X = df1[['Sunspots']].values.reshape(-1,1)\n",
    "Y = df1[['Class']].values.reshape(-1,1).ravel()\n",
    "X_train, X_test, Y_train, Y_test = train_test_split(X,Y,train_size=0.66,test_size=0.33)"
   ]
  },
  {
   "cell_type": "code",
   "execution_count": null,
   "metadata": {},
   "outputs": [],
   "source": [
    "from sklearn.svm import SVC\n",
    "classifier = SVC(kernel='poly', C=100, gamma='auto')\n",
    "classifier.fit(X_train,Y_train)\n",
    "Y_pred = classifier.predict(X_test)"
   ]
  },
  {
   "cell_type": "code",
   "execution_count": null,
   "metadata": {},
   "outputs": [],
   "source": [
    "# nella matrice in pos[0,0] ho gli 0 giusti, \n",
    "# nella matrice in pos[1,1] ho gli 1 giusti\n",
    "from sklearn.metrics import classification_report, confusion_matrix\n",
    "print(confusion_matrix(Y_test, Y_pred))\n",
    "print(classification_report(Y_test, Y_pred))"
   ]
  },
  {
   "cell_type": "code",
   "execution_count": null,
   "metadata": {},
   "outputs": [],
   "source": [
    "#precision = true positive / true positive + false positive\n",
    "#recall = true pos / true positive + false negative"
   ]
  },
  {
   "cell_type": "code",
   "execution_count": null,
   "metadata": {},
   "outputs": [],
   "source": []
  }
 ],
 "metadata": {
  "kernelspec": {
   "display_name": "Python 3",
   "language": "python",
   "name": "python3"
  },
  "language_info": {
   "codemirror_mode": {
    "name": "ipython",
    "version": 3
   },
   "file_extension": ".py",
   "mimetype": "text/x-python",
   "name": "python",
   "nbconvert_exporter": "python",
   "pygments_lexer": "ipython3",
   "version": "3.6.9"
  }
 },
 "nbformat": 4,
 "nbformat_minor": 2
}
